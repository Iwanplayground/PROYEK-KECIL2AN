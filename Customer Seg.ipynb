{
 "cells": [
  {
   "cell_type": "code",
   "execution_count": 6,
   "metadata": {},
   "outputs": [],
   "source": [
    "import pandas as pd\n",
    "import numpy as np\n",
    "import matplotlib.pyplot as plt\n",
    "import seaborn as sns"
   ]
  },
  {
   "cell_type": "code",
   "execution_count": 2,
   "metadata": {},
   "outputs": [],
   "source": [
    "from sklearn.preprocessing import LabelEncoder  \n",
    "from kmodes.kmodes import KModes  \n",
    "from kmodes.kprototypes import KPrototypes  \n",
    "import pickle  \n",
    "from pathlib import Path  \n",
    "  \n"
   ]
  },
  {
   "cell_type": "code",
   "execution_count": 3,
   "metadata": {},
   "outputs": [],
   "source": [
    "import pandas as pd\n",
    "df = pd.read_csv(\"https://storage.googleapis.com/dqlab-dataset/customer_segments.txt\", sep=\"\\t\") "
   ]
  },
  {
   "cell_type": "code",
   "execution_count": 4,
   "metadata": {},
   "outputs": [
    {
     "data": {
      "text/html": [
       "<div>\n",
       "<style scoped>\n",
       "    .dataframe tbody tr th:only-of-type {\n",
       "        vertical-align: middle;\n",
       "    }\n",
       "\n",
       "    .dataframe tbody tr th {\n",
       "        vertical-align: top;\n",
       "    }\n",
       "\n",
       "    .dataframe thead th {\n",
       "        text-align: right;\n",
       "    }\n",
       "</style>\n",
       "<table border=\"1\" class=\"dataframe\">\n",
       "  <thead>\n",
       "    <tr style=\"text-align: right;\">\n",
       "      <th></th>\n",
       "      <th>Customer_ID</th>\n",
       "      <th>Nama Pelanggan</th>\n",
       "      <th>Jenis Kelamin</th>\n",
       "      <th>Umur</th>\n",
       "      <th>Profesi</th>\n",
       "      <th>Tipe Residen</th>\n",
       "      <th>NilaiBelanjaSetahun</th>\n",
       "    </tr>\n",
       "  </thead>\n",
       "  <tbody>\n",
       "    <tr>\n",
       "      <th>0</th>\n",
       "      <td>CUST-001</td>\n",
       "      <td>Budi Anggara</td>\n",
       "      <td>Pria</td>\n",
       "      <td>58</td>\n",
       "      <td>Wiraswasta</td>\n",
       "      <td>Sector</td>\n",
       "      <td>9497927</td>\n",
       "    </tr>\n",
       "    <tr>\n",
       "      <th>1</th>\n",
       "      <td>CUST-002</td>\n",
       "      <td>Shirley Ratuwati</td>\n",
       "      <td>Wanita</td>\n",
       "      <td>14</td>\n",
       "      <td>Pelajar</td>\n",
       "      <td>Cluster</td>\n",
       "      <td>2722700</td>\n",
       "    </tr>\n",
       "    <tr>\n",
       "      <th>2</th>\n",
       "      <td>CUST-003</td>\n",
       "      <td>Agus Cahyono</td>\n",
       "      <td>Pria</td>\n",
       "      <td>48</td>\n",
       "      <td>Professional</td>\n",
       "      <td>Cluster</td>\n",
       "      <td>5286429</td>\n",
       "    </tr>\n",
       "    <tr>\n",
       "      <th>3</th>\n",
       "      <td>CUST-004</td>\n",
       "      <td>Antonius Winarta</td>\n",
       "      <td>Pria</td>\n",
       "      <td>53</td>\n",
       "      <td>Professional</td>\n",
       "      <td>Cluster</td>\n",
       "      <td>5204498</td>\n",
       "    </tr>\n",
       "    <tr>\n",
       "      <th>4</th>\n",
       "      <td>CUST-005</td>\n",
       "      <td>Ibu Sri Wahyuni, IR</td>\n",
       "      <td>Wanita</td>\n",
       "      <td>41</td>\n",
       "      <td>Wiraswasta</td>\n",
       "      <td>Cluster</td>\n",
       "      <td>10615206</td>\n",
       "    </tr>\n",
       "  </tbody>\n",
       "</table>\n",
       "</div>"
      ],
      "text/plain": [
       "  Customer_ID       Nama Pelanggan Jenis Kelamin  Umur       Profesi  \\\n",
       "0    CUST-001         Budi Anggara          Pria    58    Wiraswasta   \n",
       "1    CUST-002     Shirley Ratuwati        Wanita    14       Pelajar   \n",
       "2    CUST-003         Agus Cahyono          Pria    48  Professional   \n",
       "3    CUST-004     Antonius Winarta          Pria    53  Professional   \n",
       "4    CUST-005  Ibu Sri Wahyuni, IR        Wanita    41    Wiraswasta   \n",
       "\n",
       "  Tipe Residen  NilaiBelanjaSetahun  \n",
       "0       Sector              9497927  \n",
       "1      Cluster              2722700  \n",
       "2      Cluster              5286429  \n",
       "3      Cluster              5204498  \n",
       "4      Cluster             10615206  "
      ]
     },
     "execution_count": 4,
     "metadata": {},
     "output_type": "execute_result"
    }
   ],
   "source": [
    "df.head()"
   ]
  },
  {
   "cell_type": "code",
   "execution_count": 5,
   "metadata": {},
   "outputs": [
    {
     "name": "stdout",
     "output_type": "stream",
     "text": [
      "<class 'pandas.core.frame.DataFrame'>\n",
      "RangeIndex: 50 entries, 0 to 49\n",
      "Data columns (total 7 columns):\n",
      " #   Column               Non-Null Count  Dtype \n",
      "---  ------               --------------  ----- \n",
      " 0   Customer_ID          50 non-null     object\n",
      " 1   Nama Pelanggan       50 non-null     object\n",
      " 2   Jenis Kelamin        50 non-null     object\n",
      " 3   Umur                 50 non-null     int64 \n",
      " 4   Profesi              50 non-null     object\n",
      " 5   Tipe Residen         50 non-null     object\n",
      " 6   NilaiBelanjaSetahun  50 non-null     int64 \n",
      "dtypes: int64(2), object(5)\n",
      "memory usage: 2.9+ KB\n"
     ]
    }
   ],
   "source": [
    "df.info()"
   ]
  },
  {
   "cell_type": "markdown",
   "metadata": {},
   "source": [
    "Dalam setiap project machine learning, kita harus memahami informasi dasar dari data yang kita miliki sebelum melakukan analisa lebih lanjut. Dengan melakukan hal ini, kita bisa memastikan tipe data dari masing-masing kolom sudah benar, mengetahui apakah ada data null di tiap tiap kolom, dan juga mengetahui nama-nama kolom di dataset yang kita gunakan. Informasi ini nantinya akan menentukan proses apa yang perlu kita lakukan selanjutnya."
   ]
  },
  {
   "cell_type": "code",
   "execution_count": 7,
   "metadata": {},
   "outputs": [
    {
     "name": "stderr",
     "output_type": "stream",
     "text": [
      "c:\\Users\\HP\\AppData\\Local\\Programs\\Python\\Python39\\lib\\site-packages\\seaborn\\_decorators.py:36: FutureWarning: Pass the following variable as a keyword arg: x. From version 0.12, the only valid positional argument will be `data`, and passing other arguments without an explicit keyword will result in an error or misinterpretation.\n",
      "  warnings.warn(\n",
      "c:\\Users\\HP\\AppData\\Local\\Programs\\Python\\Python39\\lib\\site-packages\\seaborn\\distributions.py:2619: FutureWarning: `distplot` is a deprecated function and will be removed in a future version. Please adapt your code to use either `displot` (a figure-level function with similar flexibility) or `histplot` (an axes-level function for histograms).\n",
      "  warnings.warn(msg, FutureWarning)\n",
      "c:\\Users\\HP\\AppData\\Local\\Programs\\Python\\Python39\\lib\\site-packages\\seaborn\\_decorators.py:36: FutureWarning: Pass the following variable as a keyword arg: x. From version 0.12, the only valid positional argument will be `data`, and passing other arguments without an explicit keyword will result in an error or misinterpretation.\n",
      "  warnings.warn(\n",
      "c:\\Users\\HP\\AppData\\Local\\Programs\\Python\\Python39\\lib\\site-packages\\seaborn\\distributions.py:2619: FutureWarning: `distplot` is a deprecated function and will be removed in a future version. Please adapt your code to use either `displot` (a figure-level function with similar flexibility) or `histplot` (an axes-level function for histograms).\n",
      "  warnings.warn(msg, FutureWarning)\n"
     ]
    },
    {
     "name": "stdout",
     "output_type": "stream",
     "text": [
      "  adjustable: {'box', 'datalim'}\n",
      "  agg_filter: a filter function, which takes a (m, n, 3) float array and a dpi value, and returns a (m, n, 3) array\n",
      "  alpha: scalar or None\n",
      "  anchor: (float, float) or {'C', 'SW', 'S', 'SE', 'E', 'NE', ...}\n",
      "  animated: bool\n",
      "  aspect: {'auto', 'equal'} or float\n",
      "  autoscale_on: bool\n",
      "  autoscalex_on: bool\n",
      "  autoscaley_on: bool\n",
      "  axes_locator: Callable[[Axes, Renderer], Bbox]\n",
      "  axisbelow: bool or 'line'\n",
      "  box_aspect: float or None\n",
      "  clip_box: `.Bbox`\n",
      "  clip_on: bool\n",
      "  clip_path: Patch or (Path, Transform) or None\n",
      "  facecolor or fc: color\n",
      "  figure: `.Figure`\n",
      "  frame_on: bool\n",
      "  gid: str\n",
      "  in_layout: bool\n",
      "  label: object\n",
      "  navigate: bool\n",
      "  navigate_mode: unknown\n",
      "  path_effects: `.AbstractPathEffect`\n",
      "  picker: None or bool or float or callable\n",
      "  position: [left, bottom, width, height] or `~matplotlib.transforms.Bbox`\n",
      "  prop_cycle: unknown\n",
      "  rasterization_zorder: float or None\n",
      "  rasterized: bool\n",
      "  sketch_params: (scale: float, length: float, randomness: float)\n",
      "  snap: bool or None\n",
      "  subplotspec: unknown\n",
      "  title: str\n",
      "  transform: `.Transform`\n",
      "  url: str\n",
      "  visible: bool\n",
      "  xbound: unknown\n",
      "  xlabel: str\n",
      "  xlim: (bottom: float, top: float)\n",
      "  xmargin: float greater than -0.5\n",
      "  xscale: {\"linear\", \"log\", \"symlog\", \"logit\", ...} or `.ScaleBase`\n",
      "  xticklabels: unknown\n",
      "  xticks: unknown\n",
      "  ybound: unknown\n",
      "  ylabel: str\n",
      "  ylim: (bottom: float, top: float)\n",
      "  ymargin: float greater than -0.5\n",
      "  yscale: {\"linear\", \"log\", \"symlog\", \"logit\", ...} or `.ScaleBase`\n",
      "  yticklabels: unknown\n",
      "  yticks: unknown\n",
      "  zorder: float\n"
     ]
    },
    {
     "data": {
      "text/plain": [
       "<Figure size 432x288 with 0 Axes>"
      ]
     },
     "metadata": {},
     "output_type": "display_data"
    },
    {
     "data": {
      "image/png": "[encoded data removed]",
      "text/plain": [
       "<Figure size 720x648 with 4 Axes>"
      ]
     },
     "metadata": {
      "needs_background": "light"
     },
     "output_type": "display_data"
    }
   ],
   "source": [
    "plt.clf()\n",
    "\n",
    "# Fungsi untuk membuat plot  \n",
    "def observasi_num(features):  \n",
    "    fig, axs = plt.subplots(2, 2, figsize=(10, 9))\n",
    "    for i, kol in enumerate(features):\n",
    "\t    sns.boxplot(df[kol], ax = axs[i][0])\n",
    "\t    sns.distplot(df[kol], ax = axs[i][1])   \n",
    "\t    axs[i][0].set_title('mean = %.2f\\n median = %.2f\\n std = %.2f'%(df[kol].mean(), df[kol].median(), df[kol].std()))\n",
    "    plt.setp(axs)\n",
    "    plt.tight_layout()\n",
    "    plt.show()  \n",
    "  \n",
    "# Memanggil fungsi untuk membuat Plot untuk data numerik   \n",
    "kolom_numerik = ['Umur','NilaiBelanjaSetahun']\n",
    "observasi_num(kolom_numerik) "
   ]
  },
  {
   "cell_type": "code",
   "execution_count": 8,
   "metadata": {},
   "outputs": [
    {
     "name": "stderr",
     "output_type": "stream",
     "text": [
      "c:\\Users\\HP\\AppData\\Local\\Programs\\Python\\Python39\\lib\\site-packages\\seaborn\\_decorators.py:36: FutureWarning: Pass the following variable as a keyword arg: x. From version 0.12, the only valid positional argument will be `data`, and passing other arguments without an explicit keyword will result in an error or misinterpretation.\n",
      "  warnings.warn(\n"
     ]
    },
    {
     "name": "stdout",
     "output_type": "stream",
     "text": [
      "  adjustable: {'box', 'datalim'}\n",
      "  agg_filter: a filter function, which takes a (m, n, 3) float array and a dpi value, and returns a (m, n, 3) array\n",
      "  alpha: scalar or None\n",
      "  anchor: (float, float) or {'C', 'SW', 'S', 'SE', 'E', 'NE', ...}\n",
      "  animated: bool\n",
      "  aspect: {'auto', 'equal'} or float\n",
      "  autoscale_on: bool\n",
      "  autoscalex_on: bool\n",
      "  autoscaley_on: bool\n",
      "  axes_locator: Callable[[Axes, Renderer], Bbox]\n",
      "  axisbelow: bool or 'line'\n",
      "  box_aspect: float or None\n",
      "  clip_box: `.Bbox`\n",
      "  clip_on: bool\n",
      "  clip_path: Patch or (Path, Transform) or None\n",
      "  facecolor or fc: color\n",
      "  figure: `.Figure`\n",
      "  frame_on: bool\n",
      "  gid: str\n",
      "  in_layout: bool\n",
      "  label: object\n",
      "  navigate: bool\n",
      "  navigate_mode: unknown\n",
      "  path_effects: `.AbstractPathEffect`\n",
      "  picker: None or bool or float or callable\n",
      "  position: [left, bottom, width, height] or `~matplotlib.transforms.Bbox`\n",
      "  prop_cycle: unknown\n",
      "  rasterization_zorder: float or None\n",
      "  rasterized: bool\n",
      "  sketch_params: (scale: float, length: float, randomness: float)\n",
      "  snap: bool or None\n",
      "  subplotspec: unknown\n",
      "  title: str\n",
      "  transform: `.Transform`\n",
      "  url: str\n",
      "  visible: bool\n",
      "  xbound: unknown\n",
      "  xlabel: str\n",
      "  xlim: (bottom: float, top: float)\n",
      "  xmargin: float greater than -0.5\n",
      "  xscale: {\"linear\", \"log\", \"symlog\", \"logit\", ...} or `.ScaleBase`\n",
      "  xticklabels: unknown\n",
      "  xticks: unknown\n",
      "  ybound: unknown\n",
      "  ylabel: str\n",
      "  ylim: (bottom: float, top: float)\n",
      "  ymargin: float greater than -0.5\n",
      "  yscale: {\"linear\", \"log\", \"symlog\", \"logit\", ...} or `.ScaleBase`\n",
      "  yticklabels: unknown\n",
      "  yticks: unknown\n",
      "  zorder: float\n"
     ]
    },
    {
     "name": "stderr",
     "output_type": "stream",
     "text": [
      "c:\\Users\\HP\\AppData\\Local\\Programs\\Python\\Python39\\lib\\site-packages\\seaborn\\_decorators.py:36: FutureWarning: Pass the following variable as a keyword arg: x. From version 0.12, the only valid positional argument will be `data`, and passing other arguments without an explicit keyword will result in an error or misinterpretation.\n",
      "  warnings.warn(\n",
      "c:\\Users\\HP\\AppData\\Local\\Programs\\Python\\Python39\\lib\\site-packages\\seaborn\\_decorators.py:36: FutureWarning: Pass the following variable as a keyword arg: x. From version 0.12, the only valid positional argument will be `data`, and passing other arguments without an explicit keyword will result in an error or misinterpretation.\n",
      "  warnings.warn(\n"
     ]
    },
    {
     "name": "stdout",
     "output_type": "stream",
     "text": [
      "  adjustable: {'box', 'datalim'}\n",
      "  agg_filter: a filter function, which takes a (m, n, 3) float array and a dpi value, and returns a (m, n, 3) array\n",
      "  alpha: scalar or None\n",
      "  anchor: (float, float) or {'C', 'SW', 'S', 'SE', 'E', 'NE', ...}\n",
      "  animated: bool\n",
      "  aspect: {'auto', 'equal'} or float\n",
      "  autoscale_on: bool\n",
      "  autoscalex_on: bool\n",
      "  autoscaley_on: bool\n",
      "  axes_locator: Callable[[Axes, Renderer], Bbox]\n",
      "  axisbelow: bool or 'line'\n",
      "  box_aspect: float or None\n",
      "  clip_box: `.Bbox`\n",
      "  clip_on: bool\n",
      "  clip_path: Patch or (Path, Transform) or None\n",
      "  facecolor or fc: color\n",
      "  figure: `.Figure`\n",
      "  frame_on: bool\n",
      "  gid: str\n",
      "  in_layout: bool\n",
      "  label: object\n",
      "  navigate: bool\n",
      "  navigate_mode: unknown\n",
      "  path_effects: `.AbstractPathEffect`\n",
      "  picker: None or bool or float or callable\n",
      "  position: [left, bottom, width, height] or `~matplotlib.transforms.Bbox`\n",
      "  prop_cycle: unknown\n",
      "  rasterization_zorder: float or None\n",
      "  rasterized: bool\n",
      "  sketch_params: (scale: float, length: float, randomness: float)\n",
      "  snap: bool or None\n",
      "  subplotspec: unknown\n",
      "  title: str\n",
      "  transform: `.Transform`\n",
      "  url: str\n",
      "  visible: bool\n",
      "  xbound: unknown\n",
      "  xlabel: str\n",
      "  xlim: (bottom: float, top: float)\n",
      "  xmargin: float greater than -0.5\n",
      "  xscale: {\"linear\", \"log\", \"symlog\", \"logit\", ...} or `.ScaleBase`\n",
      "  xticklabels: unknown\n",
      "  xticks: unknown\n",
      "  ybound: unknown\n",
      "  ylabel: str\n",
      "  ylim: (bottom: float, top: float)\n",
      "  ymargin: float greater than -0.5\n",
      "  yscale: {\"linear\", \"log\", \"symlog\", \"logit\", ...} or `.ScaleBase`\n",
      "  yticklabels: unknown\n",
      "  yticks: unknown\n",
      "  zorder: float\n",
      "  adjustable: {'box', 'datalim'}\n",
      "  agg_filter: a filter function, which takes a (m, n, 3) float array and a dpi value, and returns a (m, n, 3) array\n",
      "  alpha: scalar or None\n",
      "  anchor: (float, float) or {'C', 'SW', 'S', 'SE', 'E', 'NE', ...}\n",
      "  animated: bool\n",
      "  aspect: {'auto', 'equal'} or float\n",
      "  autoscale_on: bool\n",
      "  autoscalex_on: bool\n",
      "  autoscaley_on: bool\n",
      "  axes_locator: Callable[[Axes, Renderer], Bbox]\n",
      "  axisbelow: bool or 'line'\n",
      "  box_aspect: float or None\n",
      "  clip_box: `.Bbox`\n",
      "  clip_on: bool\n",
      "  clip_path: Patch or (Path, Transform) or None\n",
      "  facecolor or fc: color\n",
      "  figure: `.Figure`\n",
      "  frame_on: bool\n",
      "  gid: str\n",
      "  in_layout: bool\n",
      "  label: object\n",
      "  navigate: bool\n",
      "  navigate_mode: unknown\n",
      "  path_effects: `.AbstractPathEffect`\n",
      "  picker: None or bool or float or callable\n",
      "  position: [left, bottom, width, height] or `~matplotlib.transforms.Bbox`\n",
      "  prop_cycle: unknown\n",
      "  rasterization_zorder: float or None\n",
      "  rasterized: bool\n",
      "  sketch_params: (scale: float, length: float, randomness: float)\n",
      "  snap: bool or None\n",
      "  subplotspec: unknown\n",
      "  title: str\n",
      "  transform: `.Transform`\n",
      "  url: str\n",
      "  visible: bool\n",
      "  xbound: unknown\n",
      "  xlabel: str\n",
      "  xlim: (bottom: float, top: float)\n",
      "  xmargin: float greater than -0.5\n",
      "  xscale: {\"linear\", \"log\", \"symlog\", \"logit\", ...} or `.ScaleBase`\n",
      "  xticklabels: unknown\n",
      "  xticks: unknown\n",
      "  ybound: unknown\n",
      "  ylabel: str\n",
      "  ylim: (bottom: float, top: float)\n",
      "  ymargin: float greater than -0.5\n",
      "  yscale: {\"linear\", \"log\", \"symlog\", \"logit\", ...} or `.ScaleBase`\n",
      "  yticklabels: unknown\n",
      "  yticks: unknown\n",
      "  zorder: float\n"
     ]
    },
    {
     "data": {
      "text/plain": [
       "<Figure size 432x288 with 0 Axes>"
      ]
     },
     "metadata": {},
     "output_type": "display_data"
    },
    {
     "data": {
      "image/png": "[encoded data removed]",
      "text/plain": [
       "<Figure size 504x720 with 3 Axes>"
      ]
     },
     "metadata": {
      "needs_background": "light"
     },
     "output_type": "display_data"
    }
   ],
   "source": [
    "plt.clf()\n",
    "  \n",
    "# Menyiapkan kolom kategorikal  \n",
    "kolom_kategorikal = ['Jenis Kelamin','Profesi','Tipe Residen']  \n",
    "\n",
    "# Membuat canvas\n",
    "fig, axs = plt.subplots(3,1,figsize=(7,10)) \n",
    "\n",
    "# Membuat plot untuk setiap kolom kategorikal  \n",
    "for i, kol in enumerate(kolom_kategorikal):  \n",
    "    # Membuat Plot  \n",
    "    sns.countplot(df[kol], order = df[kol].value_counts().index, ax = axs[i])  \n",
    "    axs[i].set_title('\\nCount Plot %s\\n'%(kol), fontsize=15)  \n",
    "      \n",
    "    # Memberikan anotasi  \n",
    "    for p in axs[i].patches:  \n",
    "        axs[i].annotate(format(p.get_height(), '.0f'),  \n",
    "                        (p.get_x() + p.get_width() / 2., p.get_height()),  \n",
    "                        ha = 'center',  \n",
    "                        va = 'center',  \n",
    "                        xytext = (0, 10),  \n",
    "                        textcoords = 'offset points')  \n",
    "\n",
    "    # Setting Plot  \n",
    "    sns.despine(right=True,top = True, left = True)  \n",
    "    axs[i].axes.yaxis.set_visible(False) \n",
    "    plt.setp(axs[i])\n",
    "    plt.tight_layout()\n",
    "\n",
    "# Tampilkan plot\n",
    "plt.show()"
   ]
  },
  {
   "cell_type": "markdown",
   "metadata": {},
   "source": [
    "Dari hasil eksplorasi data tersebut kamu dapat mendapatkan informasi:\n",
    "\n",
    "- Rata-rata dari umur pelanggan adalah 37.5 tahun\n",
    "- Rata-rata dari nilai belanja setahun pelanggan adalah 7,069,874.82\n",
    "- Jenis kelamin pelanggan di dominasi oleh wanita sebanyak 41 orang (82%) dan laki-laki sebanyak 9 orang (18%)\n",
    "- Profesi terbanyak adalah Wiraswasta (40%) diikuti dengan Professional (36%) dan lainnya sebanyak (24%)\n",
    "- Dari seluruh pelanggan 64% dari mereka tinggal di Cluster dan 36% nya tinggal di Sektor\n",
    "\n",
    "Tips:\n",
    "\n",
    "Kita dapat mengenal data kita lebih jauh lagi pada tahapan eksplorasi data ini. Proses eksplorasi data bisa berupa univariate maupun multivariate data eksplorasi. Eksplorasi Data Univariate melihat karakteristik tiap-tiap feature, misalnya dengan melihat statistik deskriptif, membuat histogram, kdeplot, countplot maupun boxplot. Sedangkan untuk Eksplorasi Data Multivariate, kita melihat hubungan tiap variabel dengan variabel lainnya, misal kan dengan membuat korelasi matrix, melihat predictive power, cross tabulasi, dan lainnya.\n",
    "\n"
   ]
  },
  {
   "cell_type": "code",
   "execution_count": 9,
   "metadata": {},
   "outputs": [
    {
     "name": "stdout",
     "output_type": "stream",
     "text": [
      "Statistik Sebelum Standardisasi\n",
      "\n",
      "       Umur  NilaiBelanjaSetahun\n",
      "count  50.0                 50.0\n",
      "mean   37.5            7069874.8\n",
      "std    14.7            2590619.0\n",
      "min    14.0            2722700.0\n",
      "25%    25.0            5257529.8\n",
      "50%    35.0            5980077.0\n",
      "75%    49.8            9739615.0\n",
      "max    64.0           10884508.0\n",
      "Contoh hasil standardisasi\n",
      "\n",
      "       Umur  NilaiBelanjaSetahun\n",
      "0  1.411245             0.946763\n",
      "1 -1.617768            -1.695081\n",
      "2  0.722833            -0.695414\n",
      "3  1.067039            -0.727361\n",
      "4  0.240944             1.382421\n",
      "Statistik hasil standardisasi\n",
      "\n",
      "       Umur  NilaiBelanjaSetahun\n",
      "count  50.0                 50.0\n",
      "mean   -0.0                 -0.0\n",
      "std     1.0                  1.0\n",
      "min    -2.0                 -2.0\n",
      "25%    -1.0                 -1.0\n",
      "50%    -0.0                 -0.0\n",
      "75%     1.0                  1.0\n",
      "max     2.0                  1.0\n"
     ]
    }
   ],
   "source": [
    "from sklearn.preprocessing import StandardScaler  \n",
    "  \n",
    "kolom_numerik  = ['Umur','NilaiBelanjaSetahun']  \n",
    "  \n",
    "# Statistik sebelum Standardisasi  \n",
    "print('Statistik Sebelum Standardisasi\\n')  \n",
    "print(df[kolom_numerik ].describe().round(1))  \n",
    "  \n",
    "# Standardisasi  \n",
    "df_std = StandardScaler().fit_transform(df[kolom_numerik])  \n",
    "  \n",
    "# Membuat DataFrame  \n",
    "df_std = pd.DataFrame(data=df_std, index=df.index, columns=df[kolom_numerik].columns)  \n",
    "  \n",
    "# Menampilkan contoh isi data dan summary statistic  \n",
    "print('Contoh hasil standardisasi\\n')  \n",
    "print(df_std.head())  \n",
    "  \n",
    "print('Statistik hasil standardisasi\\n')  \n",
    "print(df_std.describe().round(0)) "
   ]
  },
  {
   "cell_type": "markdown",
   "metadata": {},
   "source": [
    "Selanjutnya kamu perlu merubah kolom-kolom yang berjenis kategorikal menjadi angka. Kita akan menggunakan salah satu fungsi dari sklearn yaitu LabelEncoder. Pada dasarnya fungsi ini akan melakukan konversi data pelanggan dari teks menjadi numerik.\n",
    "\n",
    "Sebagai contoh untuk kolom Jenis Kelamin, teks \"Pria\" akan diubah menjadi angka 0 dan teks \"Wanita\" akan diuubah menjadi angka satu. Perubahan ini perlu kita untuk semua teks sebelum digunakan pada algoritma K-Prototype."
   ]
  },
  {
   "cell_type": "code",
   "execution_count": 10,
   "metadata": {},
   "outputs": [
    {
     "name": "stdout",
     "output_type": "stream",
     "text": [
      "   Jenis Kelamin  Profesi  Tipe Residen\n",
      "0              0        4             1\n",
      "1              1        2             0\n",
      "2              0        3             0\n",
      "3              0        3             0\n",
      "4              1        4             0\n"
     ]
    }
   ],
   "source": [
    "# Inisiasi nama kolom kategorikal  \n",
    "kolom_kategorikal = ['Jenis Kelamin','Profesi','Tipe Residen']  \n",
    "  \n",
    "# Membuat salinan data frame  \n",
    "df_encode = df[kolom_kategorikal].copy()  \n",
    "  \n",
    "  \n",
    "# Melakukan labelEncoder untuk semua kolom kategorikal  \n",
    "for col in kolom_kategorikal:  \n",
    "    df_encode[col] = LabelEncoder().fit_transform(df_encode[col])  \n",
    "      \n",
    "# Menampilkan data  \n",
    "print(df_encode.head()) \n"
   ]
  },
  {
   "cell_type": "code",
   "execution_count": 12,
   "metadata": {},
   "outputs": [
    {
     "data": {
      "text/html": [
       "<div>\n",
       "<style scoped>\n",
       "    .dataframe tbody tr th:only-of-type {\n",
       "        vertical-align: middle;\n",
       "    }\n",
       "\n",
       "    .dataframe tbody tr th {\n",
       "        vertical-align: top;\n",
       "    }\n",
       "\n",
       "    .dataframe thead th {\n",
       "        text-align: right;\n",
       "    }\n",
       "</style>\n",
       "<table border=\"1\" class=\"dataframe\">\n",
       "  <thead>\n",
       "    <tr style=\"text-align: right;\">\n",
       "      <th></th>\n",
       "      <th>Jenis Kelamin</th>\n",
       "      <th>Profesi</th>\n",
       "      <th>Tipe Residen</th>\n",
       "      <th>Umur</th>\n",
       "      <th>NilaiBelanjaSetahun</th>\n",
       "    </tr>\n",
       "  </thead>\n",
       "  <tbody>\n",
       "    <tr>\n",
       "      <th>0</th>\n",
       "      <td>0</td>\n",
       "      <td>4</td>\n",
       "      <td>1</td>\n",
       "      <td>1.411245</td>\n",
       "      <td>0.946763</td>\n",
       "    </tr>\n",
       "    <tr>\n",
       "      <th>1</th>\n",
       "      <td>1</td>\n",
       "      <td>2</td>\n",
       "      <td>0</td>\n",
       "      <td>-1.617768</td>\n",
       "      <td>-1.695081</td>\n",
       "    </tr>\n",
       "    <tr>\n",
       "      <th>2</th>\n",
       "      <td>0</td>\n",
       "      <td>3</td>\n",
       "      <td>0</td>\n",
       "      <td>0.722833</td>\n",
       "      <td>-0.695414</td>\n",
       "    </tr>\n",
       "    <tr>\n",
       "      <th>3</th>\n",
       "      <td>0</td>\n",
       "      <td>3</td>\n",
       "      <td>0</td>\n",
       "      <td>1.067039</td>\n",
       "      <td>-0.727361</td>\n",
       "    </tr>\n",
       "    <tr>\n",
       "      <th>4</th>\n",
       "      <td>1</td>\n",
       "      <td>4</td>\n",
       "      <td>0</td>\n",
       "      <td>0.240944</td>\n",
       "      <td>1.382421</td>\n",
       "    </tr>\n",
       "  </tbody>\n",
       "</table>\n",
       "</div>"
      ],
      "text/plain": [
       "   Jenis Kelamin  Profesi  Tipe Residen      Umur  NilaiBelanjaSetahun\n",
       "0              0        4             1  1.411245             0.946763\n",
       "1              1        2             0 -1.617768            -1.695081\n",
       "2              0        3             0  0.722833            -0.695414\n",
       "3              0        3             0  1.067039            -0.727361\n",
       "4              1        4             0  0.240944             1.382421"
      ]
     },
     "execution_count": 12,
     "metadata": {},
     "output_type": "execute_result"
    }
   ],
   "source": [
    "# Menggabungkan data frame\n",
    "df_model = df_encode.merge(df_std, left_index = True, right_index=True, how = 'left')  \n",
    "df_model.head()"
   ]
  },
  {
   "cell_type": "markdown",
   "metadata": {},
   "source": [
    "Sampai di sini, kamu sudah menggunakan kemampuan kamu dalam menyiapkan library dan data. Kemudian melakukan data eksplorasi dan pemrosesan data hingga mendapatkan data yang siap digunakan untuk permodelan. \n",
    "\n",
    "Tips:\n",
    "\n",
    "Pada aplikasi di industri, proses pemrosesan data ini termasuk yang paling banyak menghabiskan waktu bagi data scientist. Selain yang sudah kita lakukan masih banyak teknik lain yang perlu dilakukan. Sebagai contoh kadang kita perlu melakukan data imputation ketika ada null data di dataset yang akan kita gunakan. Selain itu kadang kita juga perlu melakukan transformasi variabel, misalnya ketika kita memiliki distribusi data yang condong ke salah satu sisi (skew data). Tambahan contoh lainnya yaitu terkadang kita perlu menangani pencilan yang ada di data kita.\n",
    "\n"
   ]
  }
 ],
 "metadata": {
  "interpreter": {
   "hash": "f6246b25e200e4c5124e3e61789ac81350562f0761bbcf92ad9e48654207659c"
  },
  "kernelspec": {
   "display_name": "Python 3.9.1 64-bit",
   "language": "python",
   "name": "python3"
  },
  "language_info": {
   "codemirror_mode": {
    "name": "ipython",
    "version": 3
   },
   "file_extension": ".py",
   "mimetype": "text/x-python",
   "name": "python",
   "nbconvert_exporter": "python",
   "pygments_lexer": "ipython3",
   "version": "3.9.1"
  },
  "orig_nbformat": 4
 },
 "nbformat": 4,
 "nbformat_minor": 2
}
