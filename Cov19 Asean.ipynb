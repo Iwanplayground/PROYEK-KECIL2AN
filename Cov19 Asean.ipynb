{
 "cells": [
  {
   "cell_type": "code",
   "execution_count": 1,
   "metadata": {},
   "outputs": [],
   "source": [
    "import numpy as np\n",
    "import seaborn as sns\n",
    "import pandas as pd"
   ]
  },
  {
   "cell_type": "code",
   "execution_count": 2,
   "metadata": {},
   "outputs": [],
   "source": [
    "pd.set_option(\"display.max_columns\", None)\n",
    "\n",
    "covid_url = \"https://dqlab.id/data/covid19_worldwide_2020.json\"\n",
    "df_covid_worldwide = pd.read_json(covid_url)"
   ]
  },
  {
   "cell_type": "code",
   "execution_count": 4,
   "metadata": {},
   "outputs": [
    {
     "data": {
      "text/html": [
       "<div>\n",
       "<style scoped>\n",
       "    .dataframe tbody tr th:only-of-type {\n",
       "        vertical-align: middle;\n",
       "    }\n",
       "\n",
       "    .dataframe tbody tr th {\n",
       "        vertical-align: top;\n",
       "    }\n",
       "\n",
       "    .dataframe thead th {\n",
       "        text-align: right;\n",
       "    }\n",
       "</style>\n",
       "<table border=\"1\" class=\"dataframe\">\n",
       "  <thead>\n",
       "    <tr style=\"text-align: right;\">\n",
       "      <th></th>\n",
       "      <th>date</th>\n",
       "      <th>daily_confirmed_cases</th>\n",
       "      <th>daily_deaths</th>\n",
       "      <th>confirmed_cases</th>\n",
       "      <th>deaths</th>\n",
       "      <th>geo_id</th>\n",
       "    </tr>\n",
       "  </thead>\n",
       "  <tbody>\n",
       "    <tr>\n",
       "      <th>0</th>\n",
       "      <td>2020-03-20</td>\n",
       "      <td>1</td>\n",
       "      <td>0</td>\n",
       "      <td>1</td>\n",
       "      <td>0</td>\n",
       "      <td>TD</td>\n",
       "    </tr>\n",
       "    <tr>\n",
       "      <th>1</th>\n",
       "      <td>2020-03-21</td>\n",
       "      <td>0</td>\n",
       "      <td>0</td>\n",
       "      <td>1</td>\n",
       "      <td>0</td>\n",
       "      <td>TD</td>\n",
       "    </tr>\n",
       "    <tr>\n",
       "      <th>2</th>\n",
       "      <td>2020-03-22</td>\n",
       "      <td>1</td>\n",
       "      <td>0</td>\n",
       "      <td>2</td>\n",
       "      <td>0</td>\n",
       "      <td>TD</td>\n",
       "    </tr>\n",
       "    <tr>\n",
       "      <th>3</th>\n",
       "      <td>2020-03-23</td>\n",
       "      <td>0</td>\n",
       "      <td>0</td>\n",
       "      <td>2</td>\n",
       "      <td>0</td>\n",
       "      <td>TD</td>\n",
       "    </tr>\n",
       "    <tr>\n",
       "      <th>4</th>\n",
       "      <td>2020-03-24</td>\n",
       "      <td>0</td>\n",
       "      <td>0</td>\n",
       "      <td>2</td>\n",
       "      <td>0</td>\n",
       "      <td>TD</td>\n",
       "    </tr>\n",
       "  </tbody>\n",
       "</table>\n",
       "</div>"
      ],
      "text/plain": [
       "        date  daily_confirmed_cases  daily_deaths  confirmed_cases  deaths  \\\n",
       "0 2020-03-20                      1             0                1       0   \n",
       "1 2020-03-21                      0             0                1       0   \n",
       "2 2020-03-22                      1             0                2       0   \n",
       "3 2020-03-23                      0             0                2       0   \n",
       "4 2020-03-24                      0             0                2       0   \n",
       "\n",
       "  geo_id  \n",
       "0     TD  \n",
       "1     TD  \n",
       "2     TD  \n",
       "3     TD  \n",
       "4     TD  "
      ]
     },
     "execution_count": 4,
     "metadata": {},
     "output_type": "execute_result"
    }
   ],
   "source": [
    "df_covid_worldwide.head()"
   ]
  },
  {
   "cell_type": "code",
   "execution_count": 6,
   "metadata": {},
   "outputs": [
    {
     "name": "stdout",
     "output_type": "stream",
     "text": [
      "<class 'pandas.core.frame.DataFrame'>\n",
      "Int64Index: 61900 entries, 0 to 61899\n",
      "Data columns (total 6 columns):\n",
      " #   Column                 Non-Null Count  Dtype         \n",
      "---  ------                 --------------  -----         \n",
      " 0   date                   61900 non-null  datetime64[ns]\n",
      " 1   daily_confirmed_cases  61900 non-null  int64         \n",
      " 2   daily_deaths           61900 non-null  int64         \n",
      " 3   confirmed_cases        61900 non-null  int64         \n",
      " 4   deaths                 61900 non-null  int64         \n",
      " 5   geo_id                 61625 non-null  object        \n",
      "dtypes: datetime64[ns](1), int64(4), object(1)\n",
      "memory usage: 3.3+ MB\n"
     ]
    }
   ],
   "source": [
    "df_covid_worldwide.info()"
   ]
  },
  {
   "cell_type": "code",
   "execution_count": 5,
   "metadata": {},
   "outputs": [
    {
     "data": {
      "text/html": [
       "<div>\n",
       "<style scoped>\n",
       "    .dataframe tbody tr th:only-of-type {\n",
       "        vertical-align: middle;\n",
       "    }\n",
       "\n",
       "    .dataframe tbody tr th {\n",
       "        vertical-align: top;\n",
       "    }\n",
       "\n",
       "    .dataframe thead th {\n",
       "        text-align: right;\n",
       "    }\n",
       "</style>\n",
       "<table border=\"1\" class=\"dataframe\">\n",
       "  <thead>\n",
       "    <tr style=\"text-align: right;\">\n",
       "      <th></th>\n",
       "      <th>daily_confirmed_cases</th>\n",
       "      <th>daily_deaths</th>\n",
       "      <th>confirmed_cases</th>\n",
       "      <th>deaths</th>\n",
       "      <th>geo_id</th>\n",
       "    </tr>\n",
       "    <tr>\n",
       "      <th>date</th>\n",
       "      <th></th>\n",
       "      <th></th>\n",
       "      <th></th>\n",
       "      <th></th>\n",
       "      <th></th>\n",
       "    </tr>\n",
       "  </thead>\n",
       "  <tbody>\n",
       "    <tr>\n",
       "      <th>2019-12-31</th>\n",
       "      <td>0</td>\n",
       "      <td>0</td>\n",
       "      <td>0</td>\n",
       "      <td>0</td>\n",
       "      <td>IN</td>\n",
       "    </tr>\n",
       "    <tr>\n",
       "      <th>2019-12-31</th>\n",
       "      <td>0</td>\n",
       "      <td>0</td>\n",
       "      <td>0</td>\n",
       "      <td>0</td>\n",
       "      <td>IR</td>\n",
       "    </tr>\n",
       "    <tr>\n",
       "      <th>2019-12-31</th>\n",
       "      <td>0</td>\n",
       "      <td>0</td>\n",
       "      <td>0</td>\n",
       "      <td>0</td>\n",
       "      <td>PK</td>\n",
       "    </tr>\n",
       "    <tr>\n",
       "      <th>2019-12-31</th>\n",
       "      <td>0</td>\n",
       "      <td>0</td>\n",
       "      <td>0</td>\n",
       "      <td>0</td>\n",
       "      <td>AM</td>\n",
       "    </tr>\n",
       "    <tr>\n",
       "      <th>2019-12-31</th>\n",
       "      <td>27</td>\n",
       "      <td>0</td>\n",
       "      <td>27</td>\n",
       "      <td>0</td>\n",
       "      <td>CN</td>\n",
       "    </tr>\n",
       "    <tr>\n",
       "      <th>...</th>\n",
       "      <td>...</td>\n",
       "      <td>...</td>\n",
       "      <td>...</td>\n",
       "      <td>...</td>\n",
       "      <td>...</td>\n",
       "    </tr>\n",
       "    <tr>\n",
       "      <th>2020-12-14</th>\n",
       "      <td>528</td>\n",
       "      <td>1</td>\n",
       "      <td>9708</td>\n",
       "      <td>92</td>\n",
       "      <td>UY</td>\n",
       "    </tr>\n",
       "    <tr>\n",
       "      <th>2020-12-14</th>\n",
       "      <td>26</td>\n",
       "      <td>0</td>\n",
       "      <td>69</td>\n",
       "      <td>0</td>\n",
       "      <td>GD</td>\n",
       "    </tr>\n",
       "    <tr>\n",
       "      <th>2020-12-14</th>\n",
       "      <td>0</td>\n",
       "      <td>0</td>\n",
       "      <td>11101</td>\n",
       "      <td>166</td>\n",
       "      <td>MT</td>\n",
       "    </tr>\n",
       "    <tr>\n",
       "      <th>2020-12-14</th>\n",
       "      <td>16362</td>\n",
       "      <td>188</td>\n",
       "      <td>1337078</td>\n",
       "      <td>21975</td>\n",
       "      <td>DE</td>\n",
       "    </tr>\n",
       "    <tr>\n",
       "      <th>2020-12-14</th>\n",
       "      <td>2138</td>\n",
       "      <td>40</td>\n",
       "      <td>571919</td>\n",
       "      <td>15886</td>\n",
       "      <td>CL</td>\n",
       "    </tr>\n",
       "  </tbody>\n",
       "</table>\n",
       "<p>61900 rows × 5 columns</p>\n",
       "</div>"
      ],
      "text/plain": [
       "            daily_confirmed_cases  daily_deaths  confirmed_cases  deaths  \\\n",
       "date                                                                       \n",
       "2019-12-31                      0             0                0       0   \n",
       "2019-12-31                      0             0                0       0   \n",
       "2019-12-31                      0             0                0       0   \n",
       "2019-12-31                      0             0                0       0   \n",
       "2019-12-31                     27             0               27       0   \n",
       "...                           ...           ...              ...     ...   \n",
       "2020-12-14                    528             1             9708      92   \n",
       "2020-12-14                     26             0               69       0   \n",
       "2020-12-14                      0             0            11101     166   \n",
       "2020-12-14                  16362           188          1337078   21975   \n",
       "2020-12-14                   2138            40           571919   15886   \n",
       "\n",
       "           geo_id  \n",
       "date               \n",
       "2019-12-31     IN  \n",
       "2019-12-31     IR  \n",
       "2019-12-31     PK  \n",
       "2019-12-31     AM  \n",
       "2019-12-31     CN  \n",
       "...           ...  \n",
       "2020-12-14     UY  \n",
       "2020-12-14     GD  \n",
       "2020-12-14     MT  \n",
       "2020-12-14     DE  \n",
       "2020-12-14     CL  \n",
       "\n",
       "[61900 rows x 5 columns]"
      ]
     },
     "execution_count": 5,
     "metadata": {},
     "output_type": "execute_result"
    }
   ],
   "source": [
    "df_covid_worldwide.set_index(\"date\").sort_index()"
   ]
  },
  {
   "cell_type": "code",
   "execution_count": 8,
   "metadata": {},
   "outputs": [
    {
     "name": "stdout",
     "output_type": "stream",
     "text": [
      "Jumlah missing value tiap kolom:\n",
      "date                       0\n",
      "daily_confirmed_cases      0\n",
      "daily_deaths               0\n",
      "confirmed_cases            0\n",
      "deaths                     0\n",
      "geo_id                   275\n",
      "dtype: int64\n"
     ]
    }
   ],
   "source": [
    "print(\"Jumlah missing value tiap kolom:\")\n",
    "print(df_covid_worldwide.isna().sum())\n",
    "\n",
    "df_covid_worldwide.dropna(inplace=True)"
   ]
  },
  {
   "cell_type": "code",
   "execution_count": 9,
   "metadata": {},
   "outputs": [
    {
     "data": {
      "text/plain": [
       "date                     0\n",
       "daily_confirmed_cases    0\n",
       "daily_deaths             0\n",
       "confirmed_cases          0\n",
       "deaths                   0\n",
       "geo_id                   0\n",
       "dtype: int64"
      ]
     },
     "execution_count": 9,
     "metadata": {},
     "output_type": "execute_result"
    }
   ],
   "source": [
    "# setelah dihapus\n",
    "df_covid_worldwide.isna().sum()"
   ]
  },
  {
   "cell_type": "code",
   "execution_count": 10,
   "metadata": {},
   "outputs": [
    {
     "name": "stdout",
     "output_type": "stream",
     "text": [
      "  geo_id country_name\n",
      "0     TD         Chad\n",
      "1     CU         Cuba\n",
      "2     FJ         Fiji\n",
      "3     GU         Guam\n",
      "4     IR         Iran\n"
     ]
    }
   ],
   "source": [
    "import ssl\n",
    "ssl._create_default_https_context = ssl._create_unverified_context\n",
    "\n",
    "countries_url = \"https://dqlab.id/data/country_details.json\"\n",
    "df_countries = pd.read_json(countries_url)\n",
    "print(df_countries.head())"
   ]
  },
  {
   "cell_type": "markdown",
   "metadata": {},
   "source": [
    "Selanjutnya adalah mapping data covid19 dan data country. Gunakan fungsi .merge pada pandas untuk menggabungkan df_covid_worldwide dan df_countries. \n",
    "\n",
    "Untuk merge, gunakan kolom geo_id, (ingat ya df_covid_worldwide memiliki index pada kolom date untuk itu perlu .reset_index()). Setelah merge dapat diset kembali index ke kolom date."
   ]
  },
  {
   "cell_type": "code",
   "execution_count": 11,
   "metadata": {},
   "outputs": [
    {
     "name": "stdout",
     "output_type": "stream",
     "text": [
      "            index  daily_confirmed_cases  daily_deaths  confirmed_cases  \\\n",
      "date                                                                      \n",
      "2020-03-20      0                      1             0                1   \n",
      "2020-03-21      1                      0             0                1   \n",
      "2020-03-22      2                      1             0                2   \n",
      "2020-03-23      3                      0             0                2   \n",
      "2020-03-24      4                      0             0                2   \n",
      "\n",
      "            deaths geo_id country_name  \n",
      "date                                    \n",
      "2020-03-20       0     TD         Chad  \n",
      "2020-03-21       0     TD         Chad  \n",
      "2020-03-22       0     TD         Chad  \n",
      "2020-03-23       0     TD         Chad  \n",
      "2020-03-24       0     TD         Chad  \n"
     ]
    }
   ],
   "source": [
    "df_covid_denormalized = pd.merge(df_covid_worldwide.reset_index(), df_countries, on=\"geo_id\").set_index(\"date\")\n",
    "print(df_covid_denormalized.head())"
   ]
  },
  {
   "cell_type": "code",
   "execution_count": 12,
   "metadata": {},
   "outputs": [
    {
     "data": {
      "text/html": [
       "<div>\n",
       "<style scoped>\n",
       "    .dataframe tbody tr th:only-of-type {\n",
       "        vertical-align: middle;\n",
       "    }\n",
       "\n",
       "    .dataframe tbody tr th {\n",
       "        vertical-align: top;\n",
       "    }\n",
       "\n",
       "    .dataframe thead th {\n",
       "        text-align: right;\n",
       "    }\n",
       "</style>\n",
       "<table border=\"1\" class=\"dataframe\">\n",
       "  <thead>\n",
       "    <tr style=\"text-align: right;\">\n",
       "      <th></th>\n",
       "      <th>index</th>\n",
       "      <th>daily_confirmed_cases</th>\n",
       "      <th>daily_deaths</th>\n",
       "      <th>confirmed_cases</th>\n",
       "      <th>deaths</th>\n",
       "      <th>geo_id</th>\n",
       "      <th>country_name</th>\n",
       "    </tr>\n",
       "    <tr>\n",
       "      <th>date</th>\n",
       "      <th></th>\n",
       "      <th></th>\n",
       "      <th></th>\n",
       "      <th></th>\n",
       "      <th></th>\n",
       "      <th></th>\n",
       "      <th></th>\n",
       "    </tr>\n",
       "  </thead>\n",
       "  <tbody>\n",
       "    <tr>\n",
       "      <th>2020-03-20</th>\n",
       "      <td>0</td>\n",
       "      <td>1</td>\n",
       "      <td>0</td>\n",
       "      <td>1</td>\n",
       "      <td>0</td>\n",
       "      <td>TD</td>\n",
       "      <td>Chad</td>\n",
       "    </tr>\n",
       "    <tr>\n",
       "      <th>2020-03-21</th>\n",
       "      <td>1</td>\n",
       "      <td>0</td>\n",
       "      <td>0</td>\n",
       "      <td>1</td>\n",
       "      <td>0</td>\n",
       "      <td>TD</td>\n",
       "      <td>Chad</td>\n",
       "    </tr>\n",
       "    <tr>\n",
       "      <th>2020-03-22</th>\n",
       "      <td>2</td>\n",
       "      <td>1</td>\n",
       "      <td>0</td>\n",
       "      <td>2</td>\n",
       "      <td>0</td>\n",
       "      <td>TD</td>\n",
       "      <td>Chad</td>\n",
       "    </tr>\n",
       "    <tr>\n",
       "      <th>2020-03-23</th>\n",
       "      <td>3</td>\n",
       "      <td>0</td>\n",
       "      <td>0</td>\n",
       "      <td>2</td>\n",
       "      <td>0</td>\n",
       "      <td>TD</td>\n",
       "      <td>Chad</td>\n",
       "    </tr>\n",
       "    <tr>\n",
       "      <th>2020-03-24</th>\n",
       "      <td>4</td>\n",
       "      <td>0</td>\n",
       "      <td>0</td>\n",
       "      <td>2</td>\n",
       "      <td>0</td>\n",
       "      <td>TD</td>\n",
       "      <td>Chad</td>\n",
       "    </tr>\n",
       "  </tbody>\n",
       "</table>\n",
       "</div>"
      ],
      "text/plain": [
       "            index  daily_confirmed_cases  daily_deaths  confirmed_cases  \\\n",
       "date                                                                      \n",
       "2020-03-20      0                      1             0                1   \n",
       "2020-03-21      1                      0             0                1   \n",
       "2020-03-22      2                      1             0                2   \n",
       "2020-03-23      3                      0             0                2   \n",
       "2020-03-24      4                      0             0                2   \n",
       "\n",
       "            deaths geo_id country_name  \n",
       "date                                    \n",
       "2020-03-20       0     TD         Chad  \n",
       "2020-03-21       0     TD         Chad  \n",
       "2020-03-22       0     TD         Chad  \n",
       "2020-03-23       0     TD         Chad  \n",
       "2020-03-24       0     TD         Chad  "
      ]
     },
     "execution_count": 12,
     "metadata": {},
     "output_type": "execute_result"
    }
   ],
   "source": [
    "# Tambahkan satu kolom tambahan yaitu fatality_ratio, yang merupakan pembagian antara kolom deaths dan confirmed_cases.\n",
    "df_covid_denormalized[\"deaths\"]/df_covid_denormalized[\"confirmed_cases\"]\n",
    "df_covid_denormalized.head()"
   ]
  },
  {
   "cell_type": "code",
   "execution_count": 13,
   "metadata": {},
   "outputs": [
    {
     "name": "stdout",
     "output_type": "stream",
     "text": [
      "country_name\n",
      "Yemen                     0.286473\n",
      "Italy                     0.138619\n",
      "France                    0.137979\n",
      "United_Kingdom            0.130228\n",
      "Belgium                   0.125079\n",
      "Hungary                   0.122820\n",
      "Netherlands               0.099309\n",
      "Mexico                    0.099092\n",
      "Jersey                    0.088677\n",
      "Spain                     0.079746\n",
      "Chad                      0.078870\n",
      "Montserrat                0.076923\n",
      "Canada                    0.073963\n",
      "Sweden                    0.071475\n",
      "Isle_of_Man               0.071429\n",
      "British_Virgin_Islands    0.066239\n",
      "Ireland                   0.065030\n",
      "Sudan                     0.064250\n",
      "Liberia                   0.063944\n",
      "Ecuador                   0.061031\n",
      "Name: fatality_ratio, dtype: float64\n"
     ]
    }
   ],
   "source": [
    "df_covid_denormalized_august = df_covid_denormalized.loc[\"2020-08\"].groupby(\"country_name\").sum()\n",
    "\n",
    "df_covid_denormalized_august[\"fatality_ratio\"] = df_covid_denormalized_august[\"deaths\"]/df_covid_denormalized_august[\"confirmed_cases\"]\n",
    "\n",
    "df_top_20_fatality_rate_on_august = df_covid_denormalized_august.sort_values(by=\"fatality_ratio\", ascending=False).head(20)\n",
    "print(df_top_20_fatality_rate_on_august[\"fatality_ratio\"])"
   ]
  },
  {
   "cell_type": "code",
   "execution_count": null,
   "metadata": {},
   "outputs": [],
   "source": []
  },
  {
   "cell_type": "code",
   "execution_count": null,
   "metadata": {},
   "outputs": [],
   "source": []
  },
  {
   "cell_type": "code",
   "execution_count": null,
   "metadata": {},
   "outputs": [],
   "source": []
  },
  {
   "cell_type": "code",
   "execution_count": null,
   "metadata": {},
   "outputs": [],
   "source": []
  },
  {
   "cell_type": "code",
   "execution_count": null,
   "metadata": {},
   "outputs": [],
   "source": []
  },
  {
   "cell_type": "code",
   "execution_count": null,
   "metadata": {},
   "outputs": [],
   "source": []
  },
  {
   "cell_type": "code",
   "execution_count": null,
   "metadata": {},
   "outputs": [],
   "source": []
  },
  {
   "cell_type": "code",
   "execution_count": null,
   "metadata": {},
   "outputs": [],
   "source": []
  },
  {
   "cell_type": "code",
   "execution_count": null,
   "metadata": {},
   "outputs": [],
   "source": []
  },
  {
   "cell_type": "code",
   "execution_count": null,
   "metadata": {},
   "outputs": [],
   "source": []
  },
  {
   "cell_type": "code",
   "execution_count": null,
   "metadata": {},
   "outputs": [],
   "source": []
  }
 ],
 "metadata": {
  "interpreter": {
   "hash": "f6246b25e200e4c5124e3e61789ac81350562f0761bbcf92ad9e48654207659c"
  },
  "kernelspec": {
   "display_name": "Python 3.9.1 64-bit",
   "language": "python",
   "name": "python3"
  },
  "language_info": {
   "codemirror_mode": {
    "name": "ipython",
    "version": 3
   },
   "file_extension": ".py",
   "mimetype": "text/x-python",
   "name": "python",
   "nbconvert_exporter": "python",
   "pygments_lexer": "ipython3",
   "version": "3.9.1"
  },
  "orig_nbformat": 4
 },
 "nbformat": 4,
 "nbformat_minor": 2
}
