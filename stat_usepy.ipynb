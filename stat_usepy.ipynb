{
 "cells": [
  {
   "cell_type": "code",
   "execution_count": 1,
   "metadata": {},
   "outputs": [],
   "source": [
    "import numpy as np\n",
    "import pandas as pd\n",
    "import matplotlib.pyplot as plt"
   ]
  },
  {
   "cell_type": "code",
   "execution_count": 2,
   "metadata": {},
   "outputs": [],
   "source": [
    "df = pd.read_csv(\"https://storage.googleapis.com/dqlab-dataset/dataset_statistic.csv\", sep=';')"
   ]
  },
  {
   "cell_type": "code",
   "execution_count": 3,
   "metadata": {},
   "outputs": [
    {
     "data": {
      "text/html": [
       "<div>\n",
       "<style scoped>\n",
       "    .dataframe tbody tr th:only-of-type {\n",
       "        vertical-align: middle;\n",
       "    }\n",
       "\n",
       "    .dataframe tbody tr th {\n",
       "        vertical-align: top;\n",
       "    }\n",
       "\n",
       "    .dataframe thead th {\n",
       "        text-align: right;\n",
       "    }\n",
       "</style>\n",
       "<table border=\"1\" class=\"dataframe\">\n",
       "  <thead>\n",
       "    <tr style=\"text-align: right;\">\n",
       "      <th></th>\n",
       "      <th>ID Pelanggan</th>\n",
       "      <th>Nama</th>\n",
       "      <th>Jenis Kelamin</th>\n",
       "      <th>Pendapatan</th>\n",
       "      <th>Produk</th>\n",
       "      <th>Harga</th>\n",
       "      <th>Jumlah</th>\n",
       "      <th>Total</th>\n",
       "      <th>Tingkat Kepuasan</th>\n",
       "    </tr>\n",
       "  </thead>\n",
       "  <tbody>\n",
       "    <tr>\n",
       "      <th>0</th>\n",
       "      <td>1</td>\n",
       "      <td>Arif</td>\n",
       "      <td>1</td>\n",
       "      <td>600000</td>\n",
       "      <td>A</td>\n",
       "      <td>100000</td>\n",
       "      <td>4</td>\n",
       "      <td>400000</td>\n",
       "      <td>2</td>\n",
       "    </tr>\n",
       "    <tr>\n",
       "      <th>1</th>\n",
       "      <td>2</td>\n",
       "      <td>Dian</td>\n",
       "      <td>2</td>\n",
       "      <td>1200000</td>\n",
       "      <td>D</td>\n",
       "      <td>250000</td>\n",
       "      <td>4</td>\n",
       "      <td>1000000</td>\n",
       "      <td>2</td>\n",
       "    </tr>\n",
       "    <tr>\n",
       "      <th>2</th>\n",
       "      <td>3</td>\n",
       "      <td>Dinda</td>\n",
       "      <td>2</td>\n",
       "      <td>950000</td>\n",
       "      <td>D</td>\n",
       "      <td>250000</td>\n",
       "      <td>3</td>\n",
       "      <td>750000</td>\n",
       "      <td>3</td>\n",
       "    </tr>\n",
       "    <tr>\n",
       "      <th>3</th>\n",
       "      <td>4</td>\n",
       "      <td>Fajar</td>\n",
       "      <td>1</td>\n",
       "      <td>400000</td>\n",
       "      <td>A</td>\n",
       "      <td>100000</td>\n",
       "      <td>2</td>\n",
       "      <td>200000</td>\n",
       "      <td>3</td>\n",
       "    </tr>\n",
       "    <tr>\n",
       "      <th>4</th>\n",
       "      <td>5</td>\n",
       "      <td>Ika</td>\n",
       "      <td>2</td>\n",
       "      <td>1200000</td>\n",
       "      <td>D</td>\n",
       "      <td>250000</td>\n",
       "      <td>4</td>\n",
       "      <td>1000000</td>\n",
       "      <td>2</td>\n",
       "    </tr>\n",
       "  </tbody>\n",
       "</table>\n",
       "</div>"
      ],
      "text/plain": [
       "   ID Pelanggan   Nama  Jenis Kelamin  Pendapatan Produk   Harga  Jumlah   \\\n",
       "0             1   Arif              1      600000      A  100000        4   \n",
       "1             2   Dian              2     1200000      D  250000        4   \n",
       "2             3  Dinda              2      950000      D  250000        3   \n",
       "3             4  Fajar              1      400000      A  100000        2   \n",
       "4             5    Ika              2     1200000      D  250000        4   \n",
       "\n",
       "     Total  Tingkat Kepuasan  \n",
       "0   400000                 2  \n",
       "1  1000000                 2  \n",
       "2   750000                 3  \n",
       "3   200000                 3  \n",
       "4  1000000                 2  "
      ]
     },
     "execution_count": 3,
     "metadata": {},
     "output_type": "execute_result"
    }
   ],
   "source": [
    "df.head()"
   ]
  },
  {
   "cell_type": "code",
   "execution_count": 4,
   "metadata": {},
   "outputs": [
    {
     "data": {
      "text/plain": [
       "<Figure size 432x288 with 0 Axes>"
      ]
     },
     "metadata": {},
     "output_type": "display_data"
    },
    {
     "data": {
      "image/png": "[encoded data removed]",
      "text/plain": [
       "<Figure size 432x288 with 1 Axes>"
      ]
     },
     "metadata": {
      "needs_background": "light"
     },
     "output_type": "display_data"
    }
   ],
   "source": [
    "plt.figure()\n",
    "# visualisasi scatplot untuk variabel 'Pendapatan' dan 'Total' menggunakan 'plot.scatter' dari pandas\n",
    "df.plot.scatter(x='Pendapatan', y='Total')\n",
    "plt.title('plot.scatter dari pandas', size=14)\n",
    "plt.tight_layout()\n",
    "plt.show()"
   ]
  },
  {
   "cell_type": "code",
   "execution_count": 5,
   "metadata": {},
   "outputs": [
    {
     "data": {
      "image/png": "[encoded data removed]",
      "text/plain": [
       "<Figure size 432x288 with 1 Axes>"
      ]
     },
     "metadata": {
      "needs_background": "light"
     },
     "output_type": "display_data"
    }
   ],
   "source": [
    "# visualisasi scatplot untuk variabel 'Pendapatan' dan 'Total' menggunakan 'plt.scatter' dari matplotlib\n",
    "plt.scatter(x='Pendapatan', y='Total', data=df)\n",
    "plt.title('plt.scatter dari matplotlib', size=14)\n",
    "plt.tight_layout()\n",
    "plt.show()\n",
    "\n",
    "''' kalo dari aku prefer matpl karena banyak banget visualisasi yg bisa kita custom sndiri\n",
    "tapi kekurangannya kita itu harus nambahin label nda bisa set langsung kaya di pandas punya, but its oe'''"
   ]
  },
  {
   "cell_type": "markdown",
   "metadata": {},
   "source": [
    "# HISTOGRAM"
   ]
  },
  {
   "cell_type": "markdown",
   "metadata": {},
   "source": [
    "Histogram adalah salah satu visualisasi yang digunakan untuk melihat bentuk dari distribusi data. Visualisasi ini sangat penting karena dapat menggambarkan apakah suatu data memiliki distribusi tertentu dan apakah data perlu dirubah dahulu untuk memenuhi suatu asumsi, terutama saat melakukan pemodelan liner yang akan dibahas nanti. Suatu distribusi disebut memiliki skewness positif jika ekor dari distribusi memanjang ke kiri. Kebalikannya, suatu distribusi disebut memiliki skewness negatif jika ekor dari distribusi memanjang ke kanan. Hal ini terjadi karena nilai mean, median dan modus tidak terletak di satu titik sebagaimana yang dapat diamati pada gambar berikut :\n",
    "\n",
    " "
   ]
  },
  {
   "cell_type": "code",
   "execution_count": 7,
   "metadata": {},
   "outputs": [
    {
     "data": {
      "image/png": "[encoded data removed]",
      "text/plain": [
       "<Figure size 432x288 with 1 Axes>"
      ]
     },
     "metadata": {
      "needs_background": "light"
     },
     "output_type": "display_data"
    }
   ],
   "source": [
    "# Karena aku prefer pake matpl yaudah strusnya bakal aku buat di matpl, yg bbrp aja jg ada di pd\n",
    "\n",
    "# melihat distribusi data kolom 'Pendapatan' menggunakan 'pyplot.hist' dari matplotlib.pyplot\n",
    "plt.hist(x='Pendapatan', data=df)\n",
    "plt.xlabel('Pendapatan')\n",
    "plt.title('pyplot.hist dari matplotlib.pyplot', size=14)\n",
    "plt.tight_layout()\n",
    "plt.show()"
   ]
  },
  {
   "cell_type": "markdown",
   "metadata": {},
   "source": [
    "# BOX AND WHISKER PLOT"
   ]
  },
  {
   "cell_type": "markdown",
   "metadata": {},
   "source": [
    "Box and whisker plot atau yang biasa disebut juga sebagai Box plot adalah salah satu visualisasi data yang dapat digunakan untuk melihat distribusi data, nilai maksimum dan minimum serta nilai kuantil dari data. Box plot dapat digunakan sebagai pengganti dari histogram untuk memahami distribusi dan variasi dari data walaupun bentuk distribusinya tidak terlalu terlihat jelas.\n",
    "\n",
    "Box plot terdiri box yang lebarnya adalah jarak interkuartil dan whisker yang merupakan rentang antara nilai nilai kuartil bawah/atas dengan nilai minimum dan maksimum."
   ]
  },
  {
   "cell_type": "code",
   "execution_count": 10,
   "metadata": {},
   "outputs": [
    {
     "data": {
      "text/html": [
       "<img src=\"bxpl.jpeg\" width=\"600\" height=\"300\"/>"
      ],
      "text/plain": [
       "<IPython.core.display.Image object>"
      ]
     },
     "execution_count": 10,
     "metadata": {},
     "output_type": "execute_result"
    }
   ],
   "source": [
    "# import image module\n",
    "from IPython.display import Image\n",
    "  \n",
    "# get the image\n",
    "Image(url=\"bxpl.jpeg\", width=600, height=300)"
   ]
  },
  {
   "cell_type": "code",
   "execution_count": 11,
   "metadata": {},
   "outputs": [
    {
     "data": {
      "image/png": "[encoded data removed]",
      "text/plain": [
       "<Figure size 432x288 with 1 Axes>"
      ]
     },
     "metadata": {
      "needs_background": "light"
     },
     "output_type": "display_data"
    }
   ],
   "source": [
    "# nih kalo kita mau liat boxplot dari pandas dulu dia gampang karena jelas ada koordinat penomorannya\n",
    "\n",
    "plt.figure()\n",
    "df.boxplot(column='Pendapatan')\n",
    "plt.title('ini boxplot dari pandas')\n",
    "plt.tight_layout()\n",
    "plt.show()"
   ]
  },
  {
   "cell_type": "code",
   "execution_count": 13,
   "metadata": {},
   "outputs": [
    {
     "data": {
      "image/png": "[encoded data removed]",
      "text/plain": [
       "<Figure size 432x288 with 1 Axes>"
      ]
     },
     "metadata": {
      "needs_background": "light"
     },
     "output_type": "display_data"
    }
   ],
   "source": [
    "# pake yg matpl nih skrang\n",
    "\n",
    "plt.boxplot(x='Pendapatan', data=df)\n",
    "plt.xlabel('Pendapatan',size=12,color='blue')\n",
    "plt.title('plot dari matpl',size=14,color='red')\n",
    "plt.tight_layout()\n",
    "plt.show()"
   ]
  },
  {
   "cell_type": "markdown",
   "metadata": {},
   "source": [
    "# BARPLOT"
   ]
  },
  {
   "cell_type": "code",
   "execution_count": null,
   "metadata": {},
   "outputs": [],
   "source": []
  },
  {
   "cell_type": "code",
   "execution_count": null,
   "metadata": {},
   "outputs": [],
   "source": []
  }
 ],
 "metadata": {
  "interpreter": {
   "hash": "f6246b25e200e4c5124e3e61789ac81350562f0761bbcf92ad9e48654207659c"
  },
  "kernelspec": {
   "display_name": "Python 3.9.1 64-bit",
   "language": "python",
   "name": "python3"
  },
  "language_info": {
   "codemirror_mode": {
    "name": "ipython",
    "version": 3
   },
   "file_extension": ".py",
   "mimetype": "text/x-python",
   "name": "python",
   "nbconvert_exporter": "python",
   "pygments_lexer": "ipython3",
   "version": "3.9.1"
  },
  "orig_nbformat": 4
 },
 "nbformat": 4,
 "nbformat_minor": 2
}
