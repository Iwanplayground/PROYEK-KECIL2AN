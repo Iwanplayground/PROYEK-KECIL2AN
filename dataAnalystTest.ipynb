{
 "cells": [
  {
   "cell_type": "markdown",
   "metadata": {},
   "source": [
    "Codng test itu biasanya terdiri dari \n",
    "- data prep test -> ini dimksudkan utk menguji kemampuan dalam melakukan ETL\n",
    "- lalu ada data viztest -> ini dimasudan utk menguji kemampuan dlam memvisualisaikan data\n",
    "- lalu basic stats method test -> tes ini untuk menguji kemampuan dalam melakukan modelling dengan menggunakan statistika dasar"
   ]
  },
  {
   "cell_type": "markdown",
   "metadata": {},
   "source": [
    "DQLab sport center adalah toko yang menjual berbagai kebutuhan olahraga seperti Jaket, Baju, Tas, dan Sepatu. Toko ini mulai berjualan sejak tahun 2013, sehingga sudah memiliki pelanggan tetap sejak lama, dan tetap berusaha untuk mendapatkan pelanggan baru sampai saat ini.\n",
    "\n",
    " \n",
    "\n",
    "Di awal tahun 2019,   manajer toko tersebut merekrut junior DA untuk membantu  memecahkan masalah yang ada di tokonya, yaitu menurunnya pelanggan yang membeli kembali ke tokonya.  Junior DA tersebut pun diberi kepercayaan mengolah data transaksi toko tersebut. Manajer toko mendefinisikan bahwa customer termasuk sudah bukan disebut pelanggan lagi (churn) ketika dia sudah tidak bertransaksi ke tokonya lagi sampai dengan 6 bulan terakhir dari update data terakhir yang tersedia.  \n",
    "\n",
    "Manajer toko pun memberikan data transaksi dari tahun 2013 sampai dengan 2019 dalam bentuk csv (comma separated value) dengan data_retail.csv dengan jumlah baris 100.000 baris data.\n",
    "\n",
    "\n",
    "Field yang ada pada data tersebut antara lain:\n",
    "\n",
    "No\n",
    "Row_Num\n",
    "Customer_ID\n",
    "Product\n",
    "First_Transaction\n",
    "Last_Transaction\n",
    "Average_Transaction_Amount\n",
    "Count_Transaction"
   ]
  },
  {
   "cell_type": "code",
   "execution_count": 1,
   "metadata": {},
   "outputs": [],
   "source": [
    "import pandas as pd\n",
    "import matplotlib.pyplot as plt\n",
    "import seaborn as sns"
   ]
  },
  {
   "cell_type": "code",
   "execution_count": 14,
   "metadata": {},
   "outputs": [
    {
     "data": {
      "text/html": [
       "<div>\n",
       "<style scoped>\n",
       "    .dataframe tbody tr th:only-of-type {\n",
       "        vertical-align: middle;\n",
       "    }\n",
       "\n",
       "    .dataframe tbody tr th {\n",
       "        vertical-align: top;\n",
       "    }\n",
       "\n",
       "    .dataframe thead th {\n",
       "        text-align: right;\n",
       "    }\n",
       "</style>\n",
       "<table border=\"1\" class=\"dataframe\">\n",
       "  <thead>\n",
       "    <tr style=\"text-align: right;\">\n",
       "      <th></th>\n",
       "      <th>no</th>\n",
       "      <th>Row_Num</th>\n",
       "      <th>Customer_ID</th>\n",
       "      <th>Product</th>\n",
       "      <th>First_Transaction</th>\n",
       "      <th>Last_Transaction</th>\n",
       "      <th>Average_Transaction_Amount</th>\n",
       "      <th>Count_Transaction</th>\n",
       "    </tr>\n",
       "  </thead>\n",
       "  <tbody>\n",
       "    <tr>\n",
       "      <th>0</th>\n",
       "      <td>1</td>\n",
       "      <td>1</td>\n",
       "      <td>29531</td>\n",
       "      <td>Jaket</td>\n",
       "      <td>1466304274396</td>\n",
       "      <td>1538718482608</td>\n",
       "      <td>1467681</td>\n",
       "      <td>22</td>\n",
       "    </tr>\n",
       "    <tr>\n",
       "      <th>1</th>\n",
       "      <td>2</td>\n",
       "      <td>2</td>\n",
       "      <td>29531</td>\n",
       "      <td>Sepatu</td>\n",
       "      <td>1406077331494</td>\n",
       "      <td>1545735761270</td>\n",
       "      <td>1269337</td>\n",
       "      <td>41</td>\n",
       "    </tr>\n",
       "    <tr>\n",
       "      <th>2</th>\n",
       "      <td>3</td>\n",
       "      <td>3</td>\n",
       "      <td>141526</td>\n",
       "      <td>Tas</td>\n",
       "      <td>1493349147000</td>\n",
       "      <td>1548322802000</td>\n",
       "      <td>310915</td>\n",
       "      <td>30</td>\n",
       "    </tr>\n",
       "    <tr>\n",
       "      <th>3</th>\n",
       "      <td>4</td>\n",
       "      <td>4</td>\n",
       "      <td>141526</td>\n",
       "      <td>Jaket</td>\n",
       "      <td>1493362372547</td>\n",
       "      <td>1547643603911</td>\n",
       "      <td>722632</td>\n",
       "      <td>27</td>\n",
       "    </tr>\n",
       "    <tr>\n",
       "      <th>4</th>\n",
       "      <td>5</td>\n",
       "      <td>5</td>\n",
       "      <td>37545</td>\n",
       "      <td>Sepatu</td>\n",
       "      <td>1429178498531</td>\n",
       "      <td>1542891221530</td>\n",
       "      <td>1775036</td>\n",
       "      <td>25</td>\n",
       "    </tr>\n",
       "  </tbody>\n",
       "</table>\n",
       "</div>"
      ],
      "text/plain": [
       "   no  Row_Num  Customer_ID Product  First_Transaction  Last_Transaction  \\\n",
       "0   1        1        29531   Jaket      1466304274396     1538718482608   \n",
       "1   2        2        29531  Sepatu      1406077331494     1545735761270   \n",
       "2   3        3       141526     Tas      1493349147000     1548322802000   \n",
       "3   4        4       141526   Jaket      1493362372547     1547643603911   \n",
       "4   5        5        37545  Sepatu      1429178498531     1542891221530   \n",
       "\n",
       "   Average_Transaction_Amount  Count_Transaction  \n",
       "0                     1467681                 22  \n",
       "1                     1269337                 41  \n",
       "2                      310915                 30  \n",
       "3                      722632                 27  \n",
       "4                     1775036                 25  "
      ]
     },
     "execution_count": 14,
     "metadata": {},
     "output_type": "execute_result"
    }
   ],
   "source": [
    "df = pd.read_csv('https://storage.googleapis.com/dqlab-dataset/data_retail.csv', sep=';')\n",
    "df.head()"
   ]
  },
  {
   "cell_type": "code",
   "execution_count": 15,
   "metadata": {},
   "outputs": [
    {
     "name": "stdout",
     "output_type": "stream",
     "text": [
      "<class 'pandas.core.frame.DataFrame'>\n",
      "RangeIndex: 100000 entries, 0 to 99999\n",
      "Data columns (total 8 columns):\n",
      " #   Column                      Non-Null Count   Dtype \n",
      "---  ------                      --------------   ----- \n",
      " 0   no                          100000 non-null  int64 \n",
      " 1   Row_Num                     100000 non-null  int64 \n",
      " 2   Customer_ID                 100000 non-null  int64 \n",
      " 3   Product                     100000 non-null  object\n",
      " 4   First_Transaction           100000 non-null  int64 \n",
      " 5   Last_Transaction            100000 non-null  int64 \n",
      " 6   Average_Transaction_Amount  100000 non-null  int64 \n",
      " 7   Count_Transaction           100000 non-null  int64 \n",
      "dtypes: int64(7), object(1)\n",
      "memory usage: 6.1+ MB\n"
     ]
    }
   ],
   "source": [
    "df.info()"
   ]
  },
  {
   "cell_type": "code",
   "execution_count": 16,
   "metadata": {},
   "outputs": [],
   "source": [
    "# melakukan data cleansing\n",
    "'''\n",
    "yg firstTransaction dan lastTranscation itu kan harusnya dia termasuk\n",
    "datetime tapi di tipedata itu malah object nah mari kita ubah\n",
    "'''\n",
    "\n",
    "# Kolom First_Transaction\n",
    "df['First_Transaction'] = pd.to_datetime(df['First_Transaction']/1000, unit='s', origin='1970-01-01')\n",
    "# Kolom Last_Transaction\n",
    "df['Last_Transaction'] = pd.to_datetime(df['Last_Transaction']/1000, unit='s', origin='1970-01-01')\n"
   ]
  },
  {
   "cell_type": "code",
   "execution_count": 18,
   "metadata": {},
   "outputs": [
    {
     "data": {
      "text/html": [
       "<div>\n",
       "<style scoped>\n",
       "    .dataframe tbody tr th:only-of-type {\n",
       "        vertical-align: middle;\n",
       "    }\n",
       "\n",
       "    .dataframe tbody tr th {\n",
       "        vertical-align: top;\n",
       "    }\n",
       "\n",
       "    .dataframe thead th {\n",
       "        text-align: right;\n",
       "    }\n",
       "</style>\n",
       "<table border=\"1\" class=\"dataframe\">\n",
       "  <thead>\n",
       "    <tr style=\"text-align: right;\">\n",
       "      <th></th>\n",
       "      <th>no</th>\n",
       "      <th>Row_Num</th>\n",
       "      <th>Customer_ID</th>\n",
       "      <th>Product</th>\n",
       "      <th>First_Transaction</th>\n",
       "      <th>Last_Transaction</th>\n",
       "      <th>Average_Transaction_Amount</th>\n",
       "      <th>Count_Transaction</th>\n",
       "    </tr>\n",
       "  </thead>\n",
       "  <tbody>\n",
       "    <tr>\n",
       "      <th>0</th>\n",
       "      <td>1</td>\n",
       "      <td>1</td>\n",
       "      <td>29531</td>\n",
       "      <td>Jaket</td>\n",
       "      <td>2016-06-19 02:44:34.396000000</td>\n",
       "      <td>2018-10-05 05:48:02.608000000</td>\n",
       "      <td>1467681</td>\n",
       "      <td>22</td>\n",
       "    </tr>\n",
       "    <tr>\n",
       "      <th>1</th>\n",
       "      <td>2</td>\n",
       "      <td>2</td>\n",
       "      <td>29531</td>\n",
       "      <td>Sepatu</td>\n",
       "      <td>2014-07-23 01:02:11.493999872</td>\n",
       "      <td>2018-12-25 11:02:41.269999872</td>\n",
       "      <td>1269337</td>\n",
       "      <td>41</td>\n",
       "    </tr>\n",
       "    <tr>\n",
       "      <th>2</th>\n",
       "      <td>3</td>\n",
       "      <td>3</td>\n",
       "      <td>141526</td>\n",
       "      <td>Tas</td>\n",
       "      <td>2017-04-28 03:12:27.000000000</td>\n",
       "      <td>2019-01-24 09:40:02.000000000</td>\n",
       "      <td>310915</td>\n",
       "      <td>30</td>\n",
       "    </tr>\n",
       "    <tr>\n",
       "      <th>3</th>\n",
       "      <td>4</td>\n",
       "      <td>4</td>\n",
       "      <td>141526</td>\n",
       "      <td>Jaket</td>\n",
       "      <td>2017-04-28 06:52:52.546999808</td>\n",
       "      <td>2019-01-16 13:00:03.911000064</td>\n",
       "      <td>722632</td>\n",
       "      <td>27</td>\n",
       "    </tr>\n",
       "    <tr>\n",
       "      <th>4</th>\n",
       "      <td>5</td>\n",
       "      <td>5</td>\n",
       "      <td>37545</td>\n",
       "      <td>Sepatu</td>\n",
       "      <td>2015-04-16 10:01:38.530999808</td>\n",
       "      <td>2018-11-22 12:53:41.529999872</td>\n",
       "      <td>1775036</td>\n",
       "      <td>25</td>\n",
       "    </tr>\n",
       "  </tbody>\n",
       "</table>\n",
       "</div>"
      ],
      "text/plain": [
       "   no  Row_Num  Customer_ID Product             First_Transaction  \\\n",
       "0   1        1        29531   Jaket 2016-06-19 02:44:34.396000000   \n",
       "1   2        2        29531  Sepatu 2014-07-23 01:02:11.493999872   \n",
       "2   3        3       141526     Tas 2017-04-28 03:12:27.000000000   \n",
       "3   4        4       141526   Jaket 2017-04-28 06:52:52.546999808   \n",
       "4   5        5        37545  Sepatu 2015-04-16 10:01:38.530999808   \n",
       "\n",
       "               Last_Transaction  Average_Transaction_Amount  Count_Transaction  \n",
       "0 2018-10-05 05:48:02.608000000                     1467681                 22  \n",
       "1 2018-12-25 11:02:41.269999872                     1269337                 41  \n",
       "2 2019-01-24 09:40:02.000000000                      310915                 30  \n",
       "3 2019-01-16 13:00:03.911000064                      722632                 27  \n",
       "4 2018-11-22 12:53:41.529999872                     1775036                 25  "
      ]
     },
     "execution_count": 18,
     "metadata": {},
     "output_type": "execute_result"
    }
   ],
   "source": [
    "# melihat datanya sekarang\n",
    "df.head(\n",
    ")"
   ]
  },
  {
   "cell_type": "code",
   "execution_count": 20,
   "metadata": {},
   "outputs": [
    {
     "name": "stdout",
     "output_type": "stream",
     "text": [
      "2019-02-01 23:57:57.286000128\n"
     ]
    }
   ],
   "source": [
    "# Pengecekan transaksaksi terakhir dalam dataset\n",
    "print(max(df['Last_Transaction']))\n",
    "\n",
    "# Klasifikasikan customer yang berstatus churn atau tidak dengan boolean\n",
    "df.loc[df['Last_Transaction'] <= '2018-08-01', 'is_churn'] = True \n",
    "df.loc[df['Last_Transaction'] > '2018-08-01', 'is_churn'] = False \n"
   ]
  },
  {
   "cell_type": "code",
   "execution_count": 21,
   "metadata": {},
   "outputs": [
    {
     "data": {
      "text/html": [
       "<div>\n",
       "<style scoped>\n",
       "    .dataframe tbody tr th:only-of-type {\n",
       "        vertical-align: middle;\n",
       "    }\n",
       "\n",
       "    .dataframe tbody tr th {\n",
       "        vertical-align: top;\n",
       "    }\n",
       "\n",
       "    .dataframe thead th {\n",
       "        text-align: right;\n",
       "    }\n",
       "</style>\n",
       "<table border=\"1\" class=\"dataframe\">\n",
       "  <thead>\n",
       "    <tr style=\"text-align: right;\">\n",
       "      <th></th>\n",
       "      <th>no</th>\n",
       "      <th>Row_Num</th>\n",
       "      <th>Customer_ID</th>\n",
       "      <th>Product</th>\n",
       "      <th>First_Transaction</th>\n",
       "      <th>Last_Transaction</th>\n",
       "      <th>Average_Transaction_Amount</th>\n",
       "      <th>Count_Transaction</th>\n",
       "      <th>is_churn</th>\n",
       "    </tr>\n",
       "  </thead>\n",
       "  <tbody>\n",
       "    <tr>\n",
       "      <th>0</th>\n",
       "      <td>1</td>\n",
       "      <td>1</td>\n",
       "      <td>29531</td>\n",
       "      <td>Jaket</td>\n",
       "      <td>2016-06-19 02:44:34.396000000</td>\n",
       "      <td>2018-10-05 05:48:02.608000000</td>\n",
       "      <td>1467681</td>\n",
       "      <td>22</td>\n",
       "      <td>False</td>\n",
       "    </tr>\n",
       "    <tr>\n",
       "      <th>1</th>\n",
       "      <td>2</td>\n",
       "      <td>2</td>\n",
       "      <td>29531</td>\n",
       "      <td>Sepatu</td>\n",
       "      <td>2014-07-23 01:02:11.493999872</td>\n",
       "      <td>2018-12-25 11:02:41.269999872</td>\n",
       "      <td>1269337</td>\n",
       "      <td>41</td>\n",
       "      <td>False</td>\n",
       "    </tr>\n",
       "    <tr>\n",
       "      <th>2</th>\n",
       "      <td>3</td>\n",
       "      <td>3</td>\n",
       "      <td>141526</td>\n",
       "      <td>Tas</td>\n",
       "      <td>2017-04-28 03:12:27.000000000</td>\n",
       "      <td>2019-01-24 09:40:02.000000000</td>\n",
       "      <td>310915</td>\n",
       "      <td>30</td>\n",
       "      <td>False</td>\n",
       "    </tr>\n",
       "    <tr>\n",
       "      <th>3</th>\n",
       "      <td>4</td>\n",
       "      <td>4</td>\n",
       "      <td>141526</td>\n",
       "      <td>Jaket</td>\n",
       "      <td>2017-04-28 06:52:52.546999808</td>\n",
       "      <td>2019-01-16 13:00:03.911000064</td>\n",
       "      <td>722632</td>\n",
       "      <td>27</td>\n",
       "      <td>False</td>\n",
       "    </tr>\n",
       "    <tr>\n",
       "      <th>4</th>\n",
       "      <td>5</td>\n",
       "      <td>5</td>\n",
       "      <td>37545</td>\n",
       "      <td>Sepatu</td>\n",
       "      <td>2015-04-16 10:01:38.530999808</td>\n",
       "      <td>2018-11-22 12:53:41.529999872</td>\n",
       "      <td>1775036</td>\n",
       "      <td>25</td>\n",
       "      <td>False</td>\n",
       "    </tr>\n",
       "  </tbody>\n",
       "</table>\n",
       "</div>"
      ],
      "text/plain": [
       "   no  Row_Num  Customer_ID Product             First_Transaction  \\\n",
       "0   1        1        29531   Jaket 2016-06-19 02:44:34.396000000   \n",
       "1   2        2        29531  Sepatu 2014-07-23 01:02:11.493999872   \n",
       "2   3        3       141526     Tas 2017-04-28 03:12:27.000000000   \n",
       "3   4        4       141526   Jaket 2017-04-28 06:52:52.546999808   \n",
       "4   5        5        37545  Sepatu 2015-04-16 10:01:38.530999808   \n",
       "\n",
       "               Last_Transaction  Average_Transaction_Amount  \\\n",
       "0 2018-10-05 05:48:02.608000000                     1467681   \n",
       "1 2018-12-25 11:02:41.269999872                     1269337   \n",
       "2 2019-01-24 09:40:02.000000000                      310915   \n",
       "3 2019-01-16 13:00:03.911000064                      722632   \n",
       "4 2018-11-22 12:53:41.529999872                     1775036   \n",
       "\n",
       "   Count_Transaction is_churn  \n",
       "0                 22    False  \n",
       "1                 41    False  \n",
       "2                 30    False  \n",
       "3                 27    False  \n",
       "4                 25    False  "
      ]
     },
     "execution_count": 21,
     "metadata": {},
     "output_type": "execute_result"
    }
   ],
   "source": [
    "df.head()"
   ]
  },
  {
   "cell_type": "code",
   "execution_count": 22,
   "metadata": {},
   "outputs": [
    {
     "data": {
      "text/html": [
       "<div>\n",
       "<style scoped>\n",
       "    .dataframe tbody tr th:only-of-type {\n",
       "        vertical-align: middle;\n",
       "    }\n",
       "\n",
       "    .dataframe tbody tr th {\n",
       "        vertical-align: top;\n",
       "    }\n",
       "\n",
       "    .dataframe thead th {\n",
       "        text-align: right;\n",
       "    }\n",
       "</style>\n",
       "<table border=\"1\" class=\"dataframe\">\n",
       "  <thead>\n",
       "    <tr style=\"text-align: right;\">\n",
       "      <th></th>\n",
       "      <th>Customer_ID</th>\n",
       "      <th>Product</th>\n",
       "      <th>First_Transaction</th>\n",
       "      <th>Last_Transaction</th>\n",
       "      <th>Average_Transaction_Amount</th>\n",
       "      <th>Count_Transaction</th>\n",
       "      <th>is_churn</th>\n",
       "    </tr>\n",
       "  </thead>\n",
       "  <tbody>\n",
       "    <tr>\n",
       "      <th>0</th>\n",
       "      <td>29531</td>\n",
       "      <td>Jaket</td>\n",
       "      <td>2016-06-19 02:44:34.396000000</td>\n",
       "      <td>2018-10-05 05:48:02.608000000</td>\n",
       "      <td>1467681</td>\n",
       "      <td>22</td>\n",
       "      <td>False</td>\n",
       "    </tr>\n",
       "    <tr>\n",
       "      <th>1</th>\n",
       "      <td>29531</td>\n",
       "      <td>Sepatu</td>\n",
       "      <td>2014-07-23 01:02:11.493999872</td>\n",
       "      <td>2018-12-25 11:02:41.269999872</td>\n",
       "      <td>1269337</td>\n",
       "      <td>41</td>\n",
       "      <td>False</td>\n",
       "    </tr>\n",
       "    <tr>\n",
       "      <th>2</th>\n",
       "      <td>141526</td>\n",
       "      <td>Tas</td>\n",
       "      <td>2017-04-28 03:12:27.000000000</td>\n",
       "      <td>2019-01-24 09:40:02.000000000</td>\n",
       "      <td>310915</td>\n",
       "      <td>30</td>\n",
       "      <td>False</td>\n",
       "    </tr>\n",
       "    <tr>\n",
       "      <th>3</th>\n",
       "      <td>141526</td>\n",
       "      <td>Jaket</td>\n",
       "      <td>2017-04-28 06:52:52.546999808</td>\n",
       "      <td>2019-01-16 13:00:03.911000064</td>\n",
       "      <td>722632</td>\n",
       "      <td>27</td>\n",
       "      <td>False</td>\n",
       "    </tr>\n",
       "    <tr>\n",
       "      <th>4</th>\n",
       "      <td>37545</td>\n",
       "      <td>Sepatu</td>\n",
       "      <td>2015-04-16 10:01:38.530999808</td>\n",
       "      <td>2018-11-22 12:53:41.529999872</td>\n",
       "      <td>1775036</td>\n",
       "      <td>25</td>\n",
       "      <td>False</td>\n",
       "    </tr>\n",
       "  </tbody>\n",
       "</table>\n",
       "</div>"
      ],
      "text/plain": [
       "   Customer_ID Product             First_Transaction  \\\n",
       "0        29531   Jaket 2016-06-19 02:44:34.396000000   \n",
       "1        29531  Sepatu 2014-07-23 01:02:11.493999872   \n",
       "2       141526     Tas 2017-04-28 03:12:27.000000000   \n",
       "3       141526   Jaket 2017-04-28 06:52:52.546999808   \n",
       "4        37545  Sepatu 2015-04-16 10:01:38.530999808   \n",
       "\n",
       "               Last_Transaction  Average_Transaction_Amount  \\\n",
       "0 2018-10-05 05:48:02.608000000                     1467681   \n",
       "1 2018-12-25 11:02:41.269999872                     1269337   \n",
       "2 2019-01-24 09:40:02.000000000                      310915   \n",
       "3 2019-01-16 13:00:03.911000064                      722632   \n",
       "4 2018-11-22 12:53:41.529999872                     1775036   \n",
       "\n",
       "   Count_Transaction is_churn  \n",
       "0                 22    False  \n",
       "1                 41    False  \n",
       "2                 30    False  \n",
       "3                 27    False  \n",
       "4                 25    False  "
      ]
     },
     "execution_count": 22,
     "metadata": {},
     "output_type": "execute_result"
    }
   ],
   "source": [
    "# sepertinya kolom no dan Row_Num tidak diperlukan mari kita hapus\n",
    "\n",
    "del df['no']\n",
    "del df['Row_Num']\n",
    "df.head()"
   ]
  },
  {
   "cell_type": "code",
   "execution_count": 23,
   "metadata": {},
   "outputs": [],
   "source": [
    "df['Year_First_Transaction'] = df['First_Transaction'].dt.year\n",
    "# Kolom tahun transaksi terakhir\n",
    "df['Year_Last_Transaction'] = df['Last_Transaction'].dt.year"
   ]
  },
  {
   "cell_type": "code",
   "execution_count": 24,
   "metadata": {},
   "outputs": [
    {
     "data": {
      "image/png": "[encoded data removed]",
      "text/plain": [
       "<Figure size 432x288 with 1 Axes>"
      ]
     },
     "metadata": {
      "needs_background": "light"
     },
     "output_type": "display_data"
    }
   ],
   "source": [
    "df_year = df.groupby(['Year_First_Transaction'])['Customer_ID'].count()\n",
    "df_year.plot(x='Year_First_Transaction', y='Customer_ID', kind='bar', title='Graph of Customer Acquisition')\n",
    "plt.xlabel('Year_First_Transaction')\n",
    "plt.ylabel('Num_of_Customer')\n",
    "plt.tight_layout()\n",
    "plt.show()"
   ]
  },
  {
   "cell_type": "code",
   "execution_count": 25,
   "metadata": {},
   "outputs": [
    {
     "data": {
      "image/png": "[encoded data removed]",
      "text/plain": [
       "<Figure size 432x288 with 1 Axes>"
      ]
     },
     "metadata": {
      "needs_background": "light"
     },
     "output_type": "display_data"
    }
   ],
   "source": [
    "df_year = df.groupby(['Year_First_Transaction'])['Count_Transaction'].sum()\n",
    "df_year.plot(x='Year_First_Transaction', y='Count_Transaction', kind='bar', title='Graph of Transaction Customer')\n",
    "plt.xlabel('Year_First_Transaction')\n",
    "plt.ylabel('Num_of_Transaction')\n",
    "plt.tight_layout()\n",
    "plt.show()"
   ]
  },
  {
   "cell_type": "code",
   "execution_count": 26,
   "metadata": {},
   "outputs": [
    {
     "data": {
      "image/png": "[encoded data removed]",
      "text/plain": [
       "<Figure size 432x288 with 1 Axes>"
      ]
     },
     "metadata": {
      "needs_background": "light"
     },
     "output_type": "display_data"
    }
   ],
   "source": [
    "# tren dari tahun ke tahun rata-rata jumlah transaksi untuk tiap-tiap produknya.\n",
    "sns.pointplot(data = df.groupby(['Product', 'Year_First_Transaction']).mean().reset_index(), \n",
    "              x='Year_First_Transaction', \n",
    "              y='Average_Transaction_Amount', \n",
    "              hue='Product')\n",
    "plt.tight_layout()\n",
    "plt.show()"
   ]
  },
  {
   "cell_type": "code",
   "execution_count": 27,
   "metadata": {},
   "outputs": [
    {
     "data": {
      "image/png": "[encoded data removed]",
      "text/plain": [
       "<Figure size 720x504 with 4 Axes>"
      ]
     },
     "metadata": {},
     "output_type": "display_data"
    }
   ],
   "source": [
    "# Dari sisi churned customer, khususnya untuk melihat seberapa besar proporsi churned customer untuk tiap-tiap produk dapat diketahui insight-nya melalui pie chart. \n",
    "# Visualisasikan pie chartnya untuk keempat produk yang dimaksudkan.\n",
    "\n",
    "df_piv = df.pivot_table(index='is_churn', \n",
    "                        columns='Product',\n",
    "                        values='Customer_ID', \n",
    "                        aggfunc='count', \n",
    "                        fill_value=0)\n",
    "# Mendapatkan Proportion Churn by Product\n",
    "plot_product = df_piv.count().sort_values(ascending=False).head(5).index\n",
    "# Plot pie chartnya\n",
    "df_piv = df_piv.reindex(columns=plot_product)\n",
    "df_piv.plot.pie(subplots=True,\n",
    "                figsize=(10, 7),\n",
    "                layout=(-1, 2),\n",
    "                autopct='%1.0f%%',\n",
    "                title='Proportion Churn by Product')\n",
    "plt.tight_layout()\n",
    "plt.show()"
   ]
  },
  {
   "cell_type": "code",
   "execution_count": 28,
   "metadata": {},
   "outputs": [
    {
     "data": {
      "image/png": "[encoded data removed]",
      "text/plain": [
       "<Figure size 432x288 with 1 Axes>"
      ]
     },
     "metadata": {
      "needs_background": "light"
     },
     "output_type": "display_data"
    }
   ],
   "source": [
    "# Selanjutnya akan melakukan visualisasi dari distribusi kategorisasi count transaction. Kategorisasi ini dilakukan dengan mengelompokkan jumlah transaksi \n",
    "\n",
    "# Kategorisasi jumlah transaksi\n",
    "def func(row):\n",
    "    if row['Count_Transaction'] == 1:\n",
    "        val = '1. 1'\n",
    "    elif (row['Count_Transaction'] >1 and row['Count_Transaction'] <= 3):\n",
    "        val ='2. 2 - 3'\n",
    "    elif (row['Count_Transaction'] >3 and row['Count_Transaction'] <= 6):\n",
    "        val ='3. 4 - 6'\n",
    "    elif (row['Count_Transaction'] >6 and row['Count_Transaction'] <= 10):\n",
    "        val ='4. 7 - 10'\n",
    "    else:\n",
    "        val ='5. >10'\n",
    "    return val\n",
    "# Tambahkan kolom baru\n",
    "df['Count_Transaction_Group'] = df.apply(func, axis=1)\n",
    "\n",
    "df_year = df.groupby(['Count_Transaction_Group'])['Customer_ID'].count()\n",
    "df_year.plot(x='Count_Transaction_Group', y='Customer_ID', kind='bar', title='Customer Distribution by Count Transaction Group')\n",
    "plt.xlabel('Count_Transaction_Group')\n",
    "plt.ylabel('Num_of_Customer')\n",
    "plt.tight_layout()\n",
    "plt.show()"
   ]
  },
  {
   "cell_type": "code",
   "execution_count": 53,
   "metadata": {},
   "outputs": [],
   "source": [
    "'''selanjutnya akan menentukan feature columns dari dataset yang dimiliki, di sini dipilih kolom Average_Transaction_Amount, Count_Transaction, dan Year_Diff. Akan tetapi, kolom terakhir belum ada. Silakan dicreate dahulu kolom Year_Diff ini dan kemudian assign dataset dengan feature columns ini sebagai variabel independent X. \n",
    "\n",
    "Untuk target tentunya persoalan costumer dengan kondisi churn atau tidak, assign dataset untuk target ini ke dalam variabe dependent y.'''\n",
    "\n",
    "import sklearn\n",
    "\n",
    "# Feature column: Year_Diff\n",
    "df['Year_Diff'] = df['Year_Last_Transaction'] - df['Year_First_Transaction']\n",
    "\n",
    "# Nama-nama feature columns\n",
    "feature_columns = ['Average_Transaction_Amount', 'Count_Transaction', 'Year_Diff']\n",
    "\n",
    "# Features variable\n",
    "X = df[feature_columns] \n",
    "\n",
    "# Target variable\n",
    "y = df['is_churn']"
   ]
  },
  {
   "cell_type": "code",
   "execution_count": 44,
   "metadata": {},
   "outputs": [],
   "source": [
    "from sklearn.model_selection import train_test_split\n",
    "\n",
    "X_train, X_test, y_train, y_test = train_test_split(X, y, test_size=0.25, random_state=0)"
   ]
  },
  {
   "cell_type": "code",
   "execution_count": 47,
   "metadata": {},
   "outputs": [
    {
     "name": "stdout",
     "output_type": "stream",
     "text": [
      "<class 'pandas.core.frame.DataFrame'>\n",
      "RangeIndex: 100000 entries, 0 to 99999\n",
      "Data columns (total 11 columns):\n",
      " #   Column                      Non-Null Count   Dtype         \n",
      "---  ------                      --------------   -----         \n",
      " 0   Customer_ID                 100000 non-null  int64         \n",
      " 1   Product                     100000 non-null  object        \n",
      " 2   First_Transaction           100000 non-null  datetime64[ns]\n",
      " 3   Last_Transaction            100000 non-null  datetime64[ns]\n",
      " 4   Average_Transaction_Amount  100000 non-null  int64         \n",
      " 5   Count_Transaction           100000 non-null  int64         \n",
      " 6   is_churn                    100000 non-null  object        \n",
      " 7   Year_First_Transaction      100000 non-null  int64         \n",
      " 8   Year_Last_Transaction       100000 non-null  int64         \n",
      " 9   Count_Transaction_Group     100000 non-null  object        \n",
      " 10  Year_Diff                   100000 non-null  int64         \n",
      "dtypes: datetime64[ns](2), int64(6), object(3)\n",
      "memory usage: 8.4+ MB\n"
     ]
    }
   ],
   "source": [
    "df.info()"
   ]
  },
  {
   "cell_type": "code",
   "execution_count": 51,
   "metadata": {},
   "outputs": [
    {
     "data": {
      "text/plain": [
       "0        0\n",
       "1        0\n",
       "2        0\n",
       "3        0\n",
       "4        0\n",
       "        ..\n",
       "99995    1\n",
       "99996    1\n",
       "99997    1\n",
       "99998    1\n",
       "99999    0\n",
       "Name: is_churn, Length: 100000, dtype: int32"
      ]
     },
     "execution_count": 51,
     "metadata": {},
     "output_type": "execute_result"
    }
   ],
   "source": [
    "df['is_churn'].astype('int')"
   ]
  },
  {
   "cell_type": "code",
   "execution_count": 57,
   "metadata": {},
   "outputs": [
    {
     "data": {
      "text/html": [
       "<div>\n",
       "<style scoped>\n",
       "    .dataframe tbody tr th:only-of-type {\n",
       "        vertical-align: middle;\n",
       "    }\n",
       "\n",
       "    .dataframe tbody tr th {\n",
       "        vertical-align: top;\n",
       "    }\n",
       "\n",
       "    .dataframe thead th {\n",
       "        text-align: right;\n",
       "    }\n",
       "</style>\n",
       "<table border=\"1\" class=\"dataframe\">\n",
       "  <thead>\n",
       "    <tr style=\"text-align: right;\">\n",
       "      <th></th>\n",
       "      <th>Customer_ID</th>\n",
       "      <th>Product</th>\n",
       "      <th>First_Transaction</th>\n",
       "      <th>Last_Transaction</th>\n",
       "      <th>Average_Transaction_Amount</th>\n",
       "      <th>Count_Transaction</th>\n",
       "      <th>is_churn</th>\n",
       "      <th>Year_First_Transaction</th>\n",
       "      <th>Year_Last_Transaction</th>\n",
       "      <th>Count_Transaction_Group</th>\n",
       "      <th>Year_Diff</th>\n",
       "    </tr>\n",
       "  </thead>\n",
       "  <tbody>\n",
       "    <tr>\n",
       "      <th>0</th>\n",
       "      <td>29531</td>\n",
       "      <td>Jaket</td>\n",
       "      <td>2016-06-19 02:44:34.396000000</td>\n",
       "      <td>2018-10-05 05:48:02.608000000</td>\n",
       "      <td>1467681</td>\n",
       "      <td>22</td>\n",
       "      <td>False</td>\n",
       "      <td>2016</td>\n",
       "      <td>2018</td>\n",
       "      <td>5. &gt;10</td>\n",
       "      <td>2</td>\n",
       "    </tr>\n",
       "    <tr>\n",
       "      <th>1</th>\n",
       "      <td>29531</td>\n",
       "      <td>Sepatu</td>\n",
       "      <td>2014-07-23 01:02:11.493999872</td>\n",
       "      <td>2018-12-25 11:02:41.269999872</td>\n",
       "      <td>1269337</td>\n",
       "      <td>41</td>\n",
       "      <td>False</td>\n",
       "      <td>2014</td>\n",
       "      <td>2018</td>\n",
       "      <td>5. &gt;10</td>\n",
       "      <td>4</td>\n",
       "    </tr>\n",
       "    <tr>\n",
       "      <th>2</th>\n",
       "      <td>141526</td>\n",
       "      <td>Tas</td>\n",
       "      <td>2017-04-28 03:12:27.000000000</td>\n",
       "      <td>2019-01-24 09:40:02.000000000</td>\n",
       "      <td>310915</td>\n",
       "      <td>30</td>\n",
       "      <td>False</td>\n",
       "      <td>2017</td>\n",
       "      <td>2019</td>\n",
       "      <td>5. &gt;10</td>\n",
       "      <td>2</td>\n",
       "    </tr>\n",
       "    <tr>\n",
       "      <th>3</th>\n",
       "      <td>141526</td>\n",
       "      <td>Jaket</td>\n",
       "      <td>2017-04-28 06:52:52.546999808</td>\n",
       "      <td>2019-01-16 13:00:03.911000064</td>\n",
       "      <td>722632</td>\n",
       "      <td>27</td>\n",
       "      <td>False</td>\n",
       "      <td>2017</td>\n",
       "      <td>2019</td>\n",
       "      <td>5. &gt;10</td>\n",
       "      <td>2</td>\n",
       "    </tr>\n",
       "    <tr>\n",
       "      <th>4</th>\n",
       "      <td>37545</td>\n",
       "      <td>Sepatu</td>\n",
       "      <td>2015-04-16 10:01:38.530999808</td>\n",
       "      <td>2018-11-22 12:53:41.529999872</td>\n",
       "      <td>1775036</td>\n",
       "      <td>25</td>\n",
       "      <td>False</td>\n",
       "      <td>2015</td>\n",
       "      <td>2018</td>\n",
       "      <td>5. &gt;10</td>\n",
       "      <td>3</td>\n",
       "    </tr>\n",
       "  </tbody>\n",
       "</table>\n",
       "</div>"
      ],
      "text/plain": [
       "   Customer_ID Product             First_Transaction  \\\n",
       "0        29531   Jaket 2016-06-19 02:44:34.396000000   \n",
       "1        29531  Sepatu 2014-07-23 01:02:11.493999872   \n",
       "2       141526     Tas 2017-04-28 03:12:27.000000000   \n",
       "3       141526   Jaket 2017-04-28 06:52:52.546999808   \n",
       "4        37545  Sepatu 2015-04-16 10:01:38.530999808   \n",
       "\n",
       "               Last_Transaction  Average_Transaction_Amount  \\\n",
       "0 2018-10-05 05:48:02.608000000                     1467681   \n",
       "1 2018-12-25 11:02:41.269999872                     1269337   \n",
       "2 2019-01-24 09:40:02.000000000                      310915   \n",
       "3 2019-01-16 13:00:03.911000064                      722632   \n",
       "4 2018-11-22 12:53:41.529999872                     1775036   \n",
       "\n",
       "   Count_Transaction is_churn  Year_First_Transaction  Year_Last_Transaction  \\\n",
       "0                 22    False                    2016                   2018   \n",
       "1                 41    False                    2014                   2018   \n",
       "2                 30    False                    2017                   2019   \n",
       "3                 27    False                    2017                   2019   \n",
       "4                 25    False                    2015                   2018   \n",
       "\n",
       "  Count_Transaction_Group  Year_Diff  \n",
       "0                  5. >10          2  \n",
       "1                  5. >10          4  \n",
       "2                  5. >10          2  \n",
       "3                  5. >10          2  \n",
       "4                  5. >10          3  "
      ]
     },
     "execution_count": 57,
     "metadata": {},
     "output_type": "execute_result"
    }
   ],
   "source": [
    "df.head()"
   ]
  },
  {
   "cell_type": "code",
   "execution_count": 60,
   "metadata": {},
   "outputs": [
    {
     "data": {
      "text/plain": [
       "array([[ 1890,  6441],\n",
       "       [ 3122, 13547]], dtype=int64)"
      ]
     },
     "execution_count": 60,
     "metadata": {},
     "output_type": "execute_result"
    }
   ],
   "source": [
    "y = y.astype('int')\n",
    "from sklearn.model_selection import train_test_split\n",
    "X_train, X_test, y_train, y_test = train_test_split(X, y, test_size=0.25, random_state=0)\n",
    "\n",
    "from sklearn.neighbors import KNeighborsClassifier\n",
    "from sklearn.metrics import confusion_matrix\n",
    "\n",
    "knn = KNeighborsClassifier()\n",
    "knn.fit(X_train,y_train)\n",
    "y_pred = knn.predict(X_test)\n",
    "cnf_matrix = confusion_matrix(y_test, y_pred)\n",
    "cnf_matrix"
   ]
  },
  {
   "cell_type": "code",
   "execution_count": 61,
   "metadata": {},
   "outputs": [
    {
     "data": {
      "text/plain": [
       "<Figure size 432x288 with 0 Axes>"
      ]
     },
     "metadata": {},
     "output_type": "display_data"
    },
    {
     "data": {
      "image/png": "[encoded data removed]",
      "text/plain": [
       "<Figure size 432x288 with 2 Axes>"
      ]
     },
     "metadata": {
      "needs_background": "light"
     },
     "output_type": "display_data"
    }
   ],
   "source": [
    "import numpy as np\n",
    "plt.clf()\n",
    "# name  of classes\n",
    "class_names = [0, 1] \n",
    "fig, ax = plt.subplots()\n",
    "\n",
    "tick_marks = np.arange(len(class_names))\n",
    "plt.xticks(tick_marks, class_names)\n",
    "plt.yticks(tick_marks, class_names)\n",
    "\n",
    "# create heatmap\n",
    "sns.heatmap(pd.DataFrame(cnf_matrix), annot=True, cmap='YlGnBu', fmt='g')\n",
    "ax.xaxis.set_label_position('top')\n",
    "plt.title('Confusion matrix', y=1.1)\n",
    "plt.ylabel('Actual')\n",
    "plt.xlabel('Predicted')\n",
    "plt.tight_layout()\n",
    "plt.show()"
   ]
  },
  {
   "cell_type": "code",
   "execution_count": null,
   "metadata": {},
   "outputs": [],
   "source": [
    "#Menghitung Accuracy, Precision, dan Recall\n",
    "print('Accuracy :', accuracy_score(y_test, y_pred))\n",
    "print('Precision:', precision_score(y_test, y_pred, average='micro'))\n",
    "print('Recall   :', recall_score(y_test, y_pred, average='micro'))"
   ]
  },
  {
   "cell_type": "code",
   "execution_count": null,
   "metadata": {},
   "outputs": [],
   "source": []
  },
  {
   "cell_type": "code",
   "execution_count": null,
   "metadata": {},
   "outputs": [],
   "source": []
  }
 ],
 "metadata": {
  "interpreter": {
   "hash": "29a9750479b000d02b465ba3e1a39fd7a8610c5d519bdf5bcd8f74ead63a59d2"
  },
  "kernelspec": {
   "display_name": "Python 3.9.12 64-bit (windows store)",
   "language": "python",
   "name": "python3"
  },
  "language_info": {
   "codemirror_mode": {
    "name": "ipython",
    "version": 3
   },
   "file_extension": ".py",
   "mimetype": "text/x-python",
   "name": "python",
   "nbconvert_exporter": "python",
   "pygments_lexer": "ipython3",
   "version": "3.9.1"
  },
  "orig_nbformat": 4
 },
 "nbformat": 4,
 "nbformat_minor": 2
}
