{
 "cells": [
  {
   "cell_type": "markdown",
   "metadata": {},
   "source": [
    "Terdapat 2 dasar tipe sistem rekomendasi:\n",
    "\n",
    "- Sistem Rekomendasi Sederhana\n",
    "- Sistem Rekomendasi Berdasarkan Konten dari Fiturnya\n",
    " \n",
    "Sistem Rekomendasi Sederhana, seperti namanya adalah sistem rekomendasi yang hanya menggunakan urutan sebagai dasar perhitungannya, yang biasanya digunakan dalam '5 film terbaik' kita akan menggunakan urutan berdasarkan mungkin vote terbanyak, rating tertinggi, penjualan film paling tinggi, atau apapun yang lain.\n",
    "Dalam kasus ini, kita akan menggunakan kombinasi antara rata-rata rating, jumlah vote, dan membentuk metric baru dari metric yang sudah ada, kemudian kita akan melakukan sorting untuk metric ini dari yang tertinggi ke terendah."
   ]
  },
  {
   "cell_type": "code",
   "execution_count": 10,
   "metadata": {},
   "outputs": [
    {
     "name": "stdout",
     "output_type": "stream",
     "text": [
      "Formula dari perhitungan Weighted Rating\n",
      "\n"
     ]
    },
    {
     "data": {
      "text/latex": [
       "$\\displaystyle WR = (\\frac {v} {v+m}. R)  (\\frac {m} {v+m}. C)$"
      ],
      "text/plain": [
       "<IPython.core.display.Math object>"
      ]
     },
     "metadata": {},
     "output_type": "display_data"
    }
   ],
   "source": [
    "# Formula dari IMDB dengan Weighted Rating\n",
    " \n",
    "\n",
    "from IPython.display import display, Math, Latex\n",
    "print('Formula dari perhitungan Weighted Rating\\n')\n",
    "display(Math(r'WR = (\\frac {v} {v+m}. R)  (\\frac {m} {v+m}. C)')) "
   ]
  },
  {
   "cell_type": "markdown",
   "metadata": {},
   "source": [
    "dimana,\n",
    "\n",
    "- v: jumlah votes untuk film tersebut\n",
    "- m: jumlah minimum votes yang dibutuhkan supaya dapat masuk dalam chart\n",
    "- R: rata-rata rating dari film tersebut\n",
    "- C: rata-rata jumlah votes dari seluruh semesta film\n",
    "\n"
   ]
  },
  {
   "cell_type": "code",
   "execution_count": 13,
   "metadata": {},
   "outputs": [],
   "source": [
    "import pandas as pd\n",
    "import numpy as np"
   ]
  },
  {
   "cell_type": "markdown",
   "metadata": {},
   "source": [
    "# GA SELESAI IMPORT NDA ADA DATA"
   ]
  }
 ],
 "metadata": {
  "interpreter": {
   "hash": "f6246b25e200e4c5124e3e61789ac81350562f0761bbcf92ad9e48654207659c"
  },
  "kernelspec": {
   "display_name": "Python 3.9.1 64-bit",
   "language": "python",
   "name": "python3"
  },
  "language_info": {
   "codemirror_mode": {
    "name": "ipython",
    "version": 3
   },
   "file_extension": ".py",
   "mimetype": "text/x-python",
   "name": "python",
   "nbconvert_exporter": "python",
   "pygments_lexer": "ipython3",
   "version": "3.9.1"
  },
  "orig_nbformat": 4
 },
 "nbformat": 4,
 "nbformat_minor": 2
}
